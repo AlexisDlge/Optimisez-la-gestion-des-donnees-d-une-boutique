{
 "cells": [
  {
   "cell_type": "markdown",
   "id": "ab4ef39a",
   "metadata": {},
   "source": [
    "   <h1 align=\"center\"> <font color='006899'>Introduction</font> <h1> "
   ]
  },
  {
   "cell_type": "markdown",
   "id": "7ec3fb40",
   "metadata": {},
   "source": [
    "<div class=\"alert alert-block alert-info\">\n",
    "    <b></b>\n",
    "Bonjour Laurent.\n",
    "Pour rappel je suis data analyst en freelance, j’interviens pour BottleNeck suite à un besoin : \n",
    "\n",
    "La demande de BottleNeck est le rapprochement de 2 bases manuels qui permettrait d’analyser les ventes sur le net en attendant une solution plus centralisée. \n",
    "\n",
    "Cette demande s’articule sur 3 points que nous allons aborder dans la suite de cette présentation : \n",
    "J’expliquerai le rapprochement de deux exports, un export d’une table ERP contenant les références des produits, leur prix de vente et leur état de stock, avec un export de table de l’outils de CMS contenants les informations des produits commercialisés en ligne (nom, description, nombre de ventes …).\n",
    "Puis, j’exposerais le chiffre d’affaires par produit ainsi que le chiffre d’affaires total réalisé en ligne, sur le web. \n",
    "En dernier lieu, j’approfondirais sur la variable du prix de vente par produit afin de détecter ou non d’éventuelles erreurs de saisies ou de valeurs aberrantes. \n",
    "\n",
    "Je vais vous présenter mon notebook de travail suivant ces différents points. Tout au long de ma présentation je détaillerais mes actions entreprises (notamment en relevant certaines incohérences) pour obtenir un jeu de données final et cohérent.\n",
    "        </div>"
   ]
  },
  {
   "attachments": {
    "PLAN5.png": {
     "image/png": "[encoded data removed]"
    }
   },
   "cell_type": "markdown",
   "id": "45802ee1",
   "metadata": {},
   "source": [
    "![PLAN5.png](attachment:PLAN5.png)"
   ]
  },
  {
   "cell_type": "markdown",
   "id": "14698a94",
   "metadata": {},
   "source": [
    "<h1 align=\"center\"> <font color='006899'>I. Configuration et mise en place de l'environnement de travail</font>  <h1> "
   ]
  },
  {
   "cell_type": "markdown",
   "id": "9c6e00a8",
   "metadata": {},
   "source": [
    "<h4 align=\"center\"> <font color='006899'>Importation des librairies de travail</font>  <h4> "
   ]
  },
  {
   "cell_type": "code",
   "execution_count": 1,
   "id": "d9943541",
   "metadata": {},
   "outputs": [],
   "source": [
    "#Importation de la librairie Pandas et numpy\n",
    "import pandas as pd\n",
    "import numpy as np\n",
    "\n",
    "#Importation de la librairie matplotlib et seaborn pour la visualisation \n",
    "import matplotlib.pyplot as plt\n",
    "import seaborn as sns\n",
    "\n",
    "#Importation eviter les messages rouges d'erreurs\n",
    "import warnings\n",
    "warnings.filterwarnings(\"ignore\")"
   ]
  },
  {
   "cell_type": "markdown",
   "id": "0fce5153",
   "metadata": {},
   "source": [
    "<h4 align=\"center\"> <font color='006899'> Configuration du notebook et fonctions </font> <h4> "
   ]
  },
  {
   "cell_type": "code",
   "execution_count": null,
   "id": "c3ed6ed0",
   "metadata": {},
   "outputs": [],
   "source": [
    "# Configuration du display options afficher toutes les lignes\n",
    "pd.set_option(\"display.max_rows\", None)"
   ]
  },
  {
   "cell_type": "markdown",
   "id": "38201dd2",
   "metadata": {},
   "source": [
    "<h4 align=\"center\"> <font color='006899'> Importation de nos données </font> <h4> "
   ]
  },
  {
   "cell_type": "code",
   "execution_count": 2,
   "id": "041a7fda",
   "metadata": {},
   "outputs": [],
   "source": [
    "#Importation du fichier erp\n",
    "erp = pd.read_excel('C:/Users/alex/Desktop/Projet OCR/Projet_5/données/erp.xlsx')\n",
    "\n",
    "#Importation du fichier liaison\n",
    "liaison = pd.read_excel('C:/Users/alex/Desktop/Projet OCR/Projet_5/données/liaison.xlsx')\n",
    "\n",
    "#Importation du fichier web\n",
    "web = pd.read_excel('C:/Users/alex/Desktop/Projet OCR/Projet_5/données/web.xlsx')"
   ]
  },
  {
   "cell_type": "markdown",
   "id": "1558db7d",
   "metadata": {},
   "source": [
    "<h1 align=\"center\"> <font color='006899'>II. Analyse exploratoire des tables et création de la table de travail</font>  <h1> "
   ]
  },
  {
   "cell_type": "markdown",
   "id": "eaf1d225",
   "metadata": {},
   "source": [
    "<h2 align=\"center\"> <font color='006899'>A. Netoyage de la table ERP</font>  <h2> "
   ]
  },
  {
   "cell_type": "code",
   "execution_count": 3,
   "id": "544c8bde",
   "metadata": {},
   "outputs": [
    {
     "data": {
      "text/plain": [
       "(825, 5)"
      ]
     },
     "execution_count": 3,
     "metadata": {},
     "output_type": "execute_result"
    }
   ],
   "source": [
    "# Consulte le nombre de colonnes et lignes\n",
    "\n",
    "erp.shape"
   ]
  },
  {
   "cell_type": "code",
   "execution_count": 4,
   "id": "d58731cd",
   "metadata": {},
   "outputs": [
    {
     "data": {
      "text/plain": [
       "product_id          int64\n",
       "onsale_web          int64\n",
       "price             float64\n",
       "stock_quantity      int64\n",
       "stock_status       object\n",
       "dtype: object"
      ]
     },
     "execution_count": 4,
     "metadata": {},
     "output_type": "execute_result"
    }
   ],
   "source": [
    "# La nature des données dans chacune des colonnes\n",
    "\n",
    "erp.dtypes"
   ]
  },
  {
   "cell_type": "code",
   "execution_count": 5,
   "id": "d769a4f0",
   "metadata": {},
   "outputs": [
    {
     "data": {
      "text/html": [
       "<div>\n",
       "<style scoped>\n",
       "    .dataframe tbody tr th:only-of-type {\n",
       "        vertical-align: middle;\n",
       "    }\n",
       "\n",
       "    .dataframe tbody tr th {\n",
       "        vertical-align: top;\n",
       "    }\n",
       "\n",
       "    .dataframe thead th {\n",
       "        text-align: right;\n",
       "    }\n",
       "</style>\n",
       "<table border=\"1\" class=\"dataframe\">\n",
       "  <thead>\n",
       "    <tr style=\"text-align: right;\">\n",
       "      <th></th>\n",
       "      <th>product_id</th>\n",
       "      <th>onsale_web</th>\n",
       "      <th>price</th>\n",
       "      <th>stock_quantity</th>\n",
       "    </tr>\n",
       "  </thead>\n",
       "  <tbody>\n",
       "    <tr>\n",
       "      <th>count</th>\n",
       "      <td>825.000000</td>\n",
       "      <td>825.000000</td>\n",
       "      <td>825.000000</td>\n",
       "      <td>825.000000</td>\n",
       "    </tr>\n",
       "    <tr>\n",
       "      <th>mean</th>\n",
       "      <td>5162.597576</td>\n",
       "      <td>0.869091</td>\n",
       "      <td>32.384000</td>\n",
       "      <td>26.583030</td>\n",
       "    </tr>\n",
       "    <tr>\n",
       "      <th>std</th>\n",
       "      <td>902.644635</td>\n",
       "      <td>0.337506</td>\n",
       "      <td>26.832271</td>\n",
       "      <td>45.875948</td>\n",
       "    </tr>\n",
       "    <tr>\n",
       "      <th>min</th>\n",
       "      <td>3847.000000</td>\n",
       "      <td>0.000000</td>\n",
       "      <td>-8.000000</td>\n",
       "      <td>-1.000000</td>\n",
       "    </tr>\n",
       "    <tr>\n",
       "      <th>25%</th>\n",
       "      <td>4348.000000</td>\n",
       "      <td>1.000000</td>\n",
       "      <td>14.600000</td>\n",
       "      <td>1.000000</td>\n",
       "    </tr>\n",
       "    <tr>\n",
       "      <th>50%</th>\n",
       "      <td>4907.000000</td>\n",
       "      <td>1.000000</td>\n",
       "      <td>24.400000</td>\n",
       "      <td>11.000000</td>\n",
       "    </tr>\n",
       "    <tr>\n",
       "      <th>75%</th>\n",
       "      <td>5805.000000</td>\n",
       "      <td>1.000000</td>\n",
       "      <td>42.000000</td>\n",
       "      <td>34.000000</td>\n",
       "    </tr>\n",
       "    <tr>\n",
       "      <th>max</th>\n",
       "      <td>7338.000000</td>\n",
       "      <td>1.000000</td>\n",
       "      <td>225.000000</td>\n",
       "      <td>578.000000</td>\n",
       "    </tr>\n",
       "  </tbody>\n",
       "</table>\n",
       "</div>"
      ],
      "text/plain": [
       "        product_id  onsale_web       price  stock_quantity\n",
       "count   825.000000  825.000000  825.000000      825.000000\n",
       "mean   5162.597576    0.869091   32.384000       26.583030\n",
       "std     902.644635    0.337506   26.832271       45.875948\n",
       "min    3847.000000    0.000000   -8.000000       -1.000000\n",
       "25%    4348.000000    1.000000   14.600000        1.000000\n",
       "50%    4907.000000    1.000000   24.400000       11.000000\n",
       "75%    5805.000000    1.000000   42.000000       34.000000\n",
       "max    7338.000000    1.000000  225.000000      578.000000"
      ]
     },
     "execution_count": 5,
     "metadata": {},
     "output_type": "execute_result"
    }
   ],
   "source": [
    "# Vérification pas de valeurs abéranttes dans les min et max par exemple\n",
    "\n",
    "erp.describe()"
   ]
  },
  {
   "cell_type": "code",
   "execution_count": 6,
   "id": "30316972",
   "metadata": {},
   "outputs": [
    {
     "data": {
      "text/plain": [
       "product_id        0\n",
       "onsale_web        0\n",
       "price             0\n",
       "stock_quantity    0\n",
       "stock_status      0\n",
       "dtype: int64"
      ]
     },
     "execution_count": 6,
     "metadata": {},
     "output_type": "execute_result"
    }
   ],
   "source": [
    "# Vérification qu'il n'y ait pas de valeurs nulles\n",
    "\n",
    "erp.isna().sum()"
   ]
  },
  {
   "cell_type": "code",
   "execution_count": 7,
   "id": "16046986",
   "metadata": {},
   "outputs": [
    {
     "data": {
      "text/plain": [
       "0"
      ]
     },
     "execution_count": 7,
     "metadata": {},
     "output_type": "execute_result"
    }
   ],
   "source": [
    "# Vérification qu'il n'y ait pas de doublons \n",
    "\n",
    "erp.duplicated().sum()"
   ]
  },
  {
   "cell_type": "code",
   "execution_count": 8,
   "id": "57cbf710",
   "metadata": {},
   "outputs": [
    {
     "data": {
      "text/html": [
       "<div>\n",
       "<style scoped>\n",
       "    .dataframe tbody tr th:only-of-type {\n",
       "        vertical-align: middle;\n",
       "    }\n",
       "\n",
       "    .dataframe tbody tr th {\n",
       "        vertical-align: top;\n",
       "    }\n",
       "\n",
       "    .dataframe thead th {\n",
       "        text-align: right;\n",
       "    }\n",
       "</style>\n",
       "<table border=\"1\" class=\"dataframe\">\n",
       "  <thead>\n",
       "    <tr style=\"text-align: right;\">\n",
       "      <th></th>\n",
       "      <th>product_id</th>\n",
       "      <th>onsale_web</th>\n",
       "      <th>price</th>\n",
       "      <th>stock_quantity</th>\n",
       "      <th>stock_status</th>\n",
       "    </tr>\n",
       "  </thead>\n",
       "  <tbody>\n",
       "    <tr>\n",
       "      <th>0</th>\n",
       "      <td>3847</td>\n",
       "      <td>1</td>\n",
       "      <td>24.2</td>\n",
       "      <td>0</td>\n",
       "      <td>outofstock</td>\n",
       "    </tr>\n",
       "    <tr>\n",
       "      <th>1</th>\n",
       "      <td>3849</td>\n",
       "      <td>1</td>\n",
       "      <td>34.3</td>\n",
       "      <td>0</td>\n",
       "      <td>outofstock</td>\n",
       "    </tr>\n",
       "    <tr>\n",
       "      <th>2</th>\n",
       "      <td>3850</td>\n",
       "      <td>1</td>\n",
       "      <td>20.8</td>\n",
       "      <td>0</td>\n",
       "      <td>outofstock</td>\n",
       "    </tr>\n",
       "    <tr>\n",
       "      <th>3</th>\n",
       "      <td>4032</td>\n",
       "      <td>1</td>\n",
       "      <td>14.1</td>\n",
       "      <td>0</td>\n",
       "      <td>outofstock</td>\n",
       "    </tr>\n",
       "    <tr>\n",
       "      <th>4</th>\n",
       "      <td>4039</td>\n",
       "      <td>1</td>\n",
       "      <td>46.0</td>\n",
       "      <td>0</td>\n",
       "      <td>outofstock</td>\n",
       "    </tr>\n",
       "  </tbody>\n",
       "</table>\n",
       "</div>"
      ],
      "text/plain": [
       "   product_id  onsale_web  price  stock_quantity stock_status\n",
       "0        3847           1   24.2               0   outofstock\n",
       "1        3849           1   34.3               0   outofstock\n",
       "2        3850           1   20.8               0   outofstock\n",
       "3        4032           1   14.1               0   outofstock\n",
       "4        4039           1   46.0               0   outofstock"
      ]
     },
     "execution_count": 8,
     "metadata": {},
     "output_type": "execute_result"
    }
   ],
   "source": [
    "# Affichage des 5 premières lignes de la table\n",
    "\n",
    "erp.head()"
   ]
  },
  {
   "cell_type": "code",
   "execution_count": 9,
   "id": "6d27e643",
   "metadata": {},
   "outputs": [
    {
     "data": {
      "text/plain": [
       "1    717\n",
       "0    108\n",
       "Name: onsale_web, dtype: int64"
      ]
     },
     "execution_count": 9,
     "metadata": {},
     "output_type": "execute_result"
    }
   ],
   "source": [
    "# Regarde le champs: onsale_web --> on comprends booleen si le pdt est vendu sur le web ou non\n",
    "\n",
    "erp['onsale_web'].value_counts()"
   ]
  },
  {
   "cell_type": "code",
   "execution_count": 10,
   "id": "e7c561d6",
   "metadata": {},
   "outputs": [
    {
     "data": {
      "text/plain": [
       "count    825.000000\n",
       "mean      32.384000\n",
       "std       26.832271\n",
       "min       -8.000000\n",
       "25%       14.600000\n",
       "50%       24.400000\n",
       "75%       42.000000\n",
       "max      225.000000\n",
       "Name: price, dtype: float64"
      ]
     },
     "execution_count": 10,
     "metadata": {},
     "output_type": "execute_result"
    }
   ],
   "source": [
    "# Regarde le champs: price --> Ici on a le min qui est negatif, bizarre approfondissons\n",
    "\n",
    "erp['price'].describe()"
   ]
  },
  {
   "cell_type": "code",
   "execution_count": 11,
   "id": "dc5a1c0d",
   "metadata": {},
   "outputs": [
    {
     "data": {
      "text/html": [
       "<div>\n",
       "<style scoped>\n",
       "    .dataframe tbody tr th:only-of-type {\n",
       "        vertical-align: middle;\n",
       "    }\n",
       "\n",
       "    .dataframe tbody tr th {\n",
       "        vertical-align: top;\n",
       "    }\n",
       "\n",
       "    .dataframe thead th {\n",
       "        text-align: right;\n",
       "    }\n",
       "</style>\n",
       "<table border=\"1\" class=\"dataframe\">\n",
       "  <thead>\n",
       "    <tr style=\"text-align: right;\">\n",
       "      <th></th>\n",
       "      <th>product_id</th>\n",
       "      <th>onsale_web</th>\n",
       "      <th>price</th>\n",
       "      <th>stock_quantity</th>\n",
       "      <th>stock_status</th>\n",
       "    </tr>\n",
       "  </thead>\n",
       "  <tbody>\n",
       "    <tr>\n",
       "      <th>469</th>\n",
       "      <td>5017</td>\n",
       "      <td>0</td>\n",
       "      <td>-8.0</td>\n",
       "      <td>0</td>\n",
       "      <td>outofstock</td>\n",
       "    </tr>\n",
       "    <tr>\n",
       "      <th>739</th>\n",
       "      <td>6594</td>\n",
       "      <td>0</td>\n",
       "      <td>-1.0</td>\n",
       "      <td>192</td>\n",
       "      <td>instock</td>\n",
       "    </tr>\n",
       "  </tbody>\n",
       "</table>\n",
       "</div>"
      ],
      "text/plain": [
       "     product_id  onsale_web  price  stock_quantity stock_status\n",
       "469        5017           0   -8.0               0   outofstock\n",
       "739        6594           0   -1.0             192      instock"
      ]
     },
     "execution_count": 11,
     "metadata": {},
     "output_type": "execute_result"
    }
   ],
   "source": [
    "# Nous avons deux prix en negatifs, surement une erreur, gardons le dans un coin de la tête\n",
    "\n",
    "erp.loc[erp['price'] < 0,:]"
   ]
  },
  {
   "cell_type": "code",
   "execution_count": 12,
   "id": "99211b22",
   "metadata": {},
   "outputs": [
    {
     "data": {
      "text/plain": [
       "count    825.000000\n",
       "mean      26.583030\n",
       "std       45.875948\n",
       "min       -1.000000\n",
       "25%        1.000000\n",
       "50%       11.000000\n",
       "75%       34.000000\n",
       "max      578.000000\n",
       "Name: stock_quantity, dtype: float64"
      ]
     },
     "execution_count": 12,
     "metadata": {},
     "output_type": "execute_result"
    }
   ],
   "source": [
    "# Regarde le champs: stock_quantity  --> bizarre nous avons le minimum du stock_quantité qui est négatif\n",
    "\n",
    "erp['stock_quantity'].describe()"
   ]
  },
  {
   "cell_type": "code",
   "execution_count": 13,
   "id": "a8ef9ca3",
   "metadata": {},
   "outputs": [
    {
     "data": {
      "text/html": [
       "<div>\n",
       "<style scoped>\n",
       "    .dataframe tbody tr th:only-of-type {\n",
       "        vertical-align: middle;\n",
       "    }\n",
       "\n",
       "    .dataframe tbody tr th {\n",
       "        vertical-align: top;\n",
       "    }\n",
       "\n",
       "    .dataframe thead th {\n",
       "        text-align: right;\n",
       "    }\n",
       "</style>\n",
       "<table border=\"1\" class=\"dataframe\">\n",
       "  <thead>\n",
       "    <tr style=\"text-align: right;\">\n",
       "      <th></th>\n",
       "      <th>product_id</th>\n",
       "      <th>onsale_web</th>\n",
       "      <th>price</th>\n",
       "      <th>stock_quantity</th>\n",
       "      <th>stock_status</th>\n",
       "    </tr>\n",
       "  </thead>\n",
       "  <tbody>\n",
       "    <tr>\n",
       "      <th>449</th>\n",
       "      <td>4973</td>\n",
       "      <td>0</td>\n",
       "      <td>10.0</td>\n",
       "      <td>-1</td>\n",
       "      <td>outofstock</td>\n",
       "    </tr>\n",
       "    <tr>\n",
       "      <th>573</th>\n",
       "      <td>5700</td>\n",
       "      <td>1</td>\n",
       "      <td>44.5</td>\n",
       "      <td>-1</td>\n",
       "      <td>outofstock</td>\n",
       "    </tr>\n",
       "  </tbody>\n",
       "</table>\n",
       "</div>"
      ],
      "text/plain": [
       "     product_id  onsale_web  price  stock_quantity stock_status\n",
       "449        4973           0   10.0              -1   outofstock\n",
       "573        5700           1   44.5              -1   outofstock"
      ]
     },
     "execution_count": 13,
     "metadata": {},
     "output_type": "execute_result"
    }
   ],
   "source": [
    "# On filtre pour savoir si il y a plusieurs quantité de stock negative. \n",
    "# --> 2 résultats, on regarde le champs d'a coté 'stock_status' pour comprendre, peut être un lien entre les deux?\n",
    "\n",
    "erp.loc[erp['stock_quantity'] < 0,:]"
   ]
  },
  {
   "cell_type": "code",
   "execution_count": 14,
   "id": "7faca9df",
   "metadata": {},
   "outputs": [
    {
     "data": {
      "text/plain": [
       "instock       638\n",
       "outofstock    187\n",
       "Name: stock_status, dtype: int64"
      ]
     },
     "execution_count": 14,
     "metadata": {},
     "output_type": "execute_result"
    }
   ],
   "source": [
    "# Regarde le champs: stock_status --> les produits peuvent être en stock ou hors du stock\n",
    "erp['stock_status'].value_counts()"
   ]
  },
  {
   "cell_type": "code",
   "execution_count": 15,
   "id": "6194b923",
   "metadata": {},
   "outputs": [
    {
     "data": {
      "text/html": [
       "<div>\n",
       "<style scoped>\n",
       "    .dataframe tbody tr th:only-of-type {\n",
       "        vertical-align: middle;\n",
       "    }\n",
       "\n",
       "    .dataframe tbody tr th {\n",
       "        vertical-align: top;\n",
       "    }\n",
       "\n",
       "    .dataframe thead th {\n",
       "        text-align: right;\n",
       "    }\n",
       "</style>\n",
       "<table border=\"1\" class=\"dataframe\">\n",
       "  <thead>\n",
       "    <tr style=\"text-align: right;\">\n",
       "      <th></th>\n",
       "      <th>product_id</th>\n",
       "      <th>onsale_web</th>\n",
       "      <th>price</th>\n",
       "      <th>stock_quantity</th>\n",
       "      <th>stock_status</th>\n",
       "    </tr>\n",
       "  </thead>\n",
       "  <tbody>\n",
       "    <tr>\n",
       "      <th>19</th>\n",
       "      <td>4055</td>\n",
       "      <td>0</td>\n",
       "      <td>86.1</td>\n",
       "      <td>1</td>\n",
       "      <td>outofstock</td>\n",
       "    </tr>\n",
       "    <tr>\n",
       "      <th>49</th>\n",
       "      <td>4090</td>\n",
       "      <td>0</td>\n",
       "      <td>73.0</td>\n",
       "      <td>6</td>\n",
       "      <td>outofstock</td>\n",
       "    </tr>\n",
       "    <tr>\n",
       "      <th>50</th>\n",
       "      <td>4092</td>\n",
       "      <td>0</td>\n",
       "      <td>47.0</td>\n",
       "      <td>6</td>\n",
       "      <td>outofstock</td>\n",
       "    </tr>\n",
       "    <tr>\n",
       "      <th>449</th>\n",
       "      <td>4973</td>\n",
       "      <td>0</td>\n",
       "      <td>10.0</td>\n",
       "      <td>-1</td>\n",
       "      <td>outofstock</td>\n",
       "    </tr>\n",
       "    <tr>\n",
       "      <th>573</th>\n",
       "      <td>5700</td>\n",
       "      <td>1</td>\n",
       "      <td>44.5</td>\n",
       "      <td>-1</td>\n",
       "      <td>outofstock</td>\n",
       "    </tr>\n",
       "    <tr>\n",
       "      <th>630</th>\n",
       "      <td>5826</td>\n",
       "      <td>1</td>\n",
       "      <td>41.2</td>\n",
       "      <td>12</td>\n",
       "      <td>outofstock</td>\n",
       "    </tr>\n",
       "    <tr>\n",
       "      <th>696</th>\n",
       "      <td>6125</td>\n",
       "      <td>0</td>\n",
       "      <td>14.2</td>\n",
       "      <td>48</td>\n",
       "      <td>outofstock</td>\n",
       "    </tr>\n",
       "  </tbody>\n",
       "</table>\n",
       "</div>"
      ],
      "text/plain": [
       "     product_id  onsale_web  price  stock_quantity stock_status\n",
       "19         4055           0   86.1               1   outofstock\n",
       "49         4090           0   73.0               6   outofstock\n",
       "50         4092           0   47.0               6   outofstock\n",
       "449        4973           0   10.0              -1   outofstock\n",
       "573        5700           1   44.5              -1   outofstock\n",
       "630        5826           1   41.2              12   outofstock\n",
       "696        6125           0   14.2              48   outofstock"
      ]
     },
     "execution_count": 15,
     "metadata": {},
     "output_type": "execute_result"
    }
   ],
   "source": [
    "# Ici on regarde tous les statuts hors de stock qui ont des quantités de stock\n",
    "\n",
    "erp.loc[(erp['stock_status'] == 'outofstock') & (erp['stock_quantity'] != 0),:]"
   ]
  },
  {
   "cell_type": "code",
   "execution_count": 16,
   "id": "e3acf90d",
   "metadata": {},
   "outputs": [
    {
     "data": {
      "text/html": [
       "<div>\n",
       "<style scoped>\n",
       "    .dataframe tbody tr th:only-of-type {\n",
       "        vertical-align: middle;\n",
       "    }\n",
       "\n",
       "    .dataframe tbody tr th {\n",
       "        vertical-align: top;\n",
       "    }\n",
       "\n",
       "    .dataframe thead th {\n",
       "        text-align: right;\n",
       "    }\n",
       "</style>\n",
       "<table border=\"1\" class=\"dataframe\">\n",
       "  <thead>\n",
       "    <tr style=\"text-align: right;\">\n",
       "      <th></th>\n",
       "      <th>product_id</th>\n",
       "      <th>onsale_web</th>\n",
       "      <th>price</th>\n",
       "      <th>stock_quantity</th>\n",
       "      <th>stock_status</th>\n",
       "    </tr>\n",
       "  </thead>\n",
       "  <tbody>\n",
       "    <tr>\n",
       "      <th>443</th>\n",
       "      <td>4954</td>\n",
       "      <td>1</td>\n",
       "      <td>25.0</td>\n",
       "      <td>0</td>\n",
       "      <td>instock</td>\n",
       "    </tr>\n",
       "  </tbody>\n",
       "</table>\n",
       "</div>"
      ],
      "text/plain": [
       "     product_id  onsale_web  price  stock_quantity stock_status\n",
       "443        4954           1   25.0               0      instock"
      ]
     },
     "execution_count": 16,
     "metadata": {},
     "output_type": "execute_result"
    }
   ],
   "source": [
    "# On regarde l'inverse, ici on a un produit qui a un statut en stock alors qu'il n'a pas de quantité de stock. \n",
    "# hypothèse: base de donnée pas à jour ?\n",
    "\n",
    "erp.loc[(erp['stock_status'] == 'instock') & (erp['stock_quantity'] <=0),:]"
   ]
  },
  {
   "cell_type": "code",
   "execution_count": 17,
   "id": "dea66177",
   "metadata": {},
   "outputs": [
    {
     "data": {
      "text/plain": [
       "825"
      ]
     },
     "execution_count": 17,
     "metadata": {},
     "output_type": "execute_result"
    }
   ],
   "source": [
    "# Vérifie l'unicité de la clé ici product_id --> ici 825 valeurs unique pour 825 produits donc tous uniques.\n",
    "\n",
    "erp['product_id'].nunique()"
   ]
  },
  {
   "cell_type": "code",
   "execution_count": 18,
   "id": "83777982",
   "metadata": {},
   "outputs": [],
   "source": [
    "# Création d'une liste de tous les product_id, qui servira plus tard\n",
    "\n",
    "List_erp_product_id = erp['product_id'].tolist()"
   ]
  },
  {
   "cell_type": "markdown",
   "id": "c303b1ef",
   "metadata": {},
   "source": [
    "<h2 align=\"center\"> <font color='006899'>B. Netoyage de la table de liaison</font>  <h2>     "
   ]
  },
  {
   "cell_type": "code",
   "execution_count": 19,
   "id": "992e96e4",
   "metadata": {},
   "outputs": [
    {
     "data": {
      "text/plain": [
       "(825, 2)"
      ]
     },
     "execution_count": 19,
     "metadata": {},
     "output_type": "execute_result"
    }
   ],
   "source": [
    "# Consulte le nombre de colonnes et lignes\n",
    "\n",
    "liaison.shape"
   ]
  },
  {
   "cell_type": "code",
   "execution_count": 20,
   "id": "34706223",
   "metadata": {},
   "outputs": [
    {
     "data": {
      "text/plain": [
       "product_id     int64\n",
       "id_web        object\n",
       "dtype: object"
      ]
     },
     "execution_count": 20,
     "metadata": {},
     "output_type": "execute_result"
    }
   ],
   "source": [
    "# La nature des données dans chacune des colonnes--> ici on voit que id_web est pas un entier on va regarder en detail\n",
    "\n",
    "liaison.dtypes"
   ]
  },
  {
   "cell_type": "code",
   "execution_count": 21,
   "id": "3a08c937",
   "metadata": {},
   "outputs": [
    {
     "data": {
      "text/plain": [
       "product_id     0\n",
       "id_web        91\n",
       "dtype: int64"
      ]
     },
     "execution_count": 21,
     "metadata": {},
     "output_type": "execute_result"
    }
   ],
   "source": [
    "# Vérification qu'il n'y ait pas de valeurs nulles --> 91 valeurs nulles pour id_web, on verra plus tard après la première jointure\n",
    "\n",
    "liaison.isna().sum()"
   ]
  },
  {
   "cell_type": "code",
   "execution_count": 22,
   "id": "a7b132d1",
   "metadata": {},
   "outputs": [
    {
     "data": {
      "text/plain": [
       "0"
      ]
     },
     "execution_count": 22,
     "metadata": {},
     "output_type": "execute_result"
    }
   ],
   "source": [
    "# Vérification qu'il n'y ait pas de doublons \n",
    "\n",
    "liaison.duplicated().sum()"
   ]
  },
  {
   "cell_type": "code",
   "execution_count": 23,
   "id": "1eb14f11",
   "metadata": {},
   "outputs": [
    {
     "data": {
      "text/html": [
       "<div>\n",
       "<style scoped>\n",
       "    .dataframe tbody tr th:only-of-type {\n",
       "        vertical-align: middle;\n",
       "    }\n",
       "\n",
       "    .dataframe tbody tr th {\n",
       "        vertical-align: top;\n",
       "    }\n",
       "\n",
       "    .dataframe thead th {\n",
       "        text-align: right;\n",
       "    }\n",
       "</style>\n",
       "<table border=\"1\" class=\"dataframe\">\n",
       "  <thead>\n",
       "    <tr style=\"text-align: right;\">\n",
       "      <th></th>\n",
       "      <th>product_id</th>\n",
       "      <th>id_web</th>\n",
       "    </tr>\n",
       "  </thead>\n",
       "  <tbody>\n",
       "    <tr>\n",
       "      <th>0</th>\n",
       "      <td>3847</td>\n",
       "      <td>15298</td>\n",
       "    </tr>\n",
       "    <tr>\n",
       "      <th>1</th>\n",
       "      <td>3849</td>\n",
       "      <td>15296</td>\n",
       "    </tr>\n",
       "    <tr>\n",
       "      <th>2</th>\n",
       "      <td>3850</td>\n",
       "      <td>15300</td>\n",
       "    </tr>\n",
       "    <tr>\n",
       "      <th>3</th>\n",
       "      <td>4032</td>\n",
       "      <td>19814</td>\n",
       "    </tr>\n",
       "    <tr>\n",
       "      <th>4</th>\n",
       "      <td>4039</td>\n",
       "      <td>19815</td>\n",
       "    </tr>\n",
       "  </tbody>\n",
       "</table>\n",
       "</div>"
      ],
      "text/plain": [
       "   product_id id_web\n",
       "0        3847  15298\n",
       "1        3849  15296\n",
       "2        3850  15300\n",
       "3        4032  19814\n",
       "4        4039  19815"
      ]
     },
     "execution_count": 23,
     "metadata": {},
     "output_type": "execute_result"
    }
   ],
   "source": [
    "# Affichage des 5 premières lignes de la table\n",
    "\n",
    "liaison.head()"
   ]
  },
  {
   "cell_type": "code",
   "execution_count": 24,
   "id": "ca2bb46a",
   "metadata": {},
   "outputs": [
    {
     "data": {
      "text/plain": [
       "825"
      ]
     },
     "execution_count": 24,
     "metadata": {},
     "output_type": "execute_result"
    }
   ],
   "source": [
    "# On commence par regarder le champs product_id\n",
    "# Vérifie l'unicité de la clé --> ici 825 valeurs uniques comme pour la table erp, mais est-ce que ce sont les mêmes valeurs, \n",
    "# est ce que les valeurs correspondent? faisons une comparaison entre id product de erp et liaison\n",
    "\n",
    "liaison['product_id'].nunique()"
   ]
  },
  {
   "cell_type": "code",
   "execution_count": 25,
   "id": "9fa98212",
   "metadata": {},
   "outputs": [],
   "source": [
    "# Création d'une liste de tous les product_id pour la comparer à celle du DF erp\n",
    "\n",
    "List_liaison_product_id = liaison['product_id'].tolist()"
   ]
  },
  {
   "cell_type": "code",
   "execution_count": 26,
   "id": "10177ecf",
   "metadata": {},
   "outputs": [
    {
     "name": "stdout",
     "output_type": "stream",
     "text": [
      "True\n"
     ]
    }
   ],
   "source": [
    "# Creation d'une fonction pour comparer si toutes les valeurs des deux listes sont identiques : renvoie true sinon false.\n",
    "# --> Ici nous avons les 825 mêmes id entre les deux DF\n",
    "\n",
    "def compare_list(list1, list2):\n",
    "    return list1 == list2\n",
    "print(compare_list(List_erp_product_id, List_liaison_product_id))"
   ]
  },
  {
   "cell_type": "code",
   "execution_count": 27,
   "id": "0806e78e",
   "metadata": {},
   "outputs": [],
   "source": [
    "# On s'interesse au champs id_web : on va commencer par le renommer pour harmoniser les libellés. \n",
    "\n",
    "liaison = liaison.rename(columns={\"id_web\": \"web_id\"})"
   ]
  },
  {
   "cell_type": "code",
   "execution_count": 28,
   "id": "dfa8b0ae",
   "metadata": {},
   "outputs": [
    {
     "data": {
      "text/plain": [
       "820        NaN\n",
       "821        NaN\n",
       "822    13127-1\n",
       "823    14680-1\n",
       "824      16230\n",
       "Name: web_id, dtype: object"
      ]
     },
     "execution_count": 28,
     "metadata": {},
     "output_type": "execute_result"
    }
   ],
   "source": [
    "# On a pu voir que que web_id qui fera la liaison entre cete table et celle du web n'est pas un entier, regardons de plus près.\n",
    "# Effectivement ici on voit qu'il y a des valeurs non numeriques avec des tirets par exemple, on va les laisser comme ca pour \n",
    "# l'instant, on garde cette info en tête.\n",
    "\n",
    "liaison['web_id'].tail()"
   ]
  },
  {
   "cell_type": "code",
   "execution_count": 29,
   "id": "790926a6",
   "metadata": {},
   "outputs": [
    {
     "data": {
      "text/plain": [
       "(825, 2)"
      ]
     },
     "execution_count": 29,
     "metadata": {},
     "output_type": "execute_result"
    }
   ],
   "source": [
    "# Vérifie la taille de notre DF\n",
    "\n",
    "liaison.shape"
   ]
  },
  {
   "cell_type": "markdown",
   "id": "fc9820eb",
   "metadata": {},
   "source": [
    "<h2 align=\"center\"> <font color='006899'>C. Première jointure entre la table ERP et la table de liaison</font>  <h2>        "
   ]
  },
  {
   "cell_type": "code",
   "execution_count": 30,
   "id": "7c5c435e",
   "metadata": {},
   "outputs": [
    {
     "data": {
      "text/plain": [
       "825"
      ]
     },
     "execution_count": 30,
     "metadata": {},
     "output_type": "execute_result"
    }
   ],
   "source": [
    "erp['product_id'].nunique()"
   ]
  },
  {
   "cell_type": "code",
   "execution_count": 31,
   "id": "6aec87d5",
   "metadata": {},
   "outputs": [
    {
     "data": {
      "text/plain": [
       "825"
      ]
     },
     "execution_count": 31,
     "metadata": {},
     "output_type": "execute_result"
    }
   ],
   "source": [
    "liaison['product_id'].nunique()"
   ]
  },
  {
   "cell_type": "code",
   "execution_count": 32,
   "id": "84db3840",
   "metadata": {},
   "outputs": [],
   "source": [
    "# Pour joindre ces deux tables en une seule (erp et liaison) la clé est donc product_id. \n",
    "# Ici pour erp pour avons 825 valeurs uniques qui sont les mêmes que ceux de la table liaison (verifié precedemment)"
   ]
  },
  {
   "cell_type": "code",
   "execution_count": 33,
   "id": "d22b3f1b",
   "metadata": {},
   "outputs": [
    {
     "data": {
      "text/html": [
       "<div>\n",
       "<style scoped>\n",
       "    .dataframe tbody tr th:only-of-type {\n",
       "        vertical-align: middle;\n",
       "    }\n",
       "\n",
       "    .dataframe tbody tr th {\n",
       "        vertical-align: top;\n",
       "    }\n",
       "\n",
       "    .dataframe thead th {\n",
       "        text-align: right;\n",
       "    }\n",
       "</style>\n",
       "<table border=\"1\" class=\"dataframe\">\n",
       "  <thead>\n",
       "    <tr style=\"text-align: right;\">\n",
       "      <th></th>\n",
       "      <th>product_id</th>\n",
       "      <th>onsale_web</th>\n",
       "      <th>price</th>\n",
       "      <th>stock_quantity</th>\n",
       "      <th>stock_status</th>\n",
       "      <th>web_id</th>\n",
       "      <th>_merge</th>\n",
       "    </tr>\n",
       "  </thead>\n",
       "  <tbody>\n",
       "    <tr>\n",
       "      <th>0</th>\n",
       "      <td>3847</td>\n",
       "      <td>1</td>\n",
       "      <td>24.2</td>\n",
       "      <td>0</td>\n",
       "      <td>outofstock</td>\n",
       "      <td>15298</td>\n",
       "      <td>both</td>\n",
       "    </tr>\n",
       "    <tr>\n",
       "      <th>1</th>\n",
       "      <td>3849</td>\n",
       "      <td>1</td>\n",
       "      <td>34.3</td>\n",
       "      <td>0</td>\n",
       "      <td>outofstock</td>\n",
       "      <td>15296</td>\n",
       "      <td>both</td>\n",
       "    </tr>\n",
       "    <tr>\n",
       "      <th>2</th>\n",
       "      <td>3850</td>\n",
       "      <td>1</td>\n",
       "      <td>20.8</td>\n",
       "      <td>0</td>\n",
       "      <td>outofstock</td>\n",
       "      <td>15300</td>\n",
       "      <td>both</td>\n",
       "    </tr>\n",
       "    <tr>\n",
       "      <th>3</th>\n",
       "      <td>4032</td>\n",
       "      <td>1</td>\n",
       "      <td>14.1</td>\n",
       "      <td>0</td>\n",
       "      <td>outofstock</td>\n",
       "      <td>19814</td>\n",
       "      <td>both</td>\n",
       "    </tr>\n",
       "    <tr>\n",
       "      <th>4</th>\n",
       "      <td>4039</td>\n",
       "      <td>1</td>\n",
       "      <td>46.0</td>\n",
       "      <td>0</td>\n",
       "      <td>outofstock</td>\n",
       "      <td>19815</td>\n",
       "      <td>both</td>\n",
       "    </tr>\n",
       "  </tbody>\n",
       "</table>\n",
       "</div>"
      ],
      "text/plain": [
       "   product_id  onsale_web  price  stock_quantity stock_status web_id _merge\n",
       "0        3847           1   24.2               0   outofstock  15298   both\n",
       "1        3849           1   34.3               0   outofstock  15296   both\n",
       "2        3850           1   20.8               0   outofstock  15300   both\n",
       "3        4032           1   14.1               0   outofstock  19814   both\n",
       "4        4039           1   46.0               0   outofstock  19815   both"
      ]
     },
     "execution_count": 33,
     "metadata": {},
     "output_type": "execute_result"
    }
   ],
   "source": [
    "# jointure entre erp et liaison :\n",
    "\n",
    "erp_liaison = pd.merge(erp, liaison, on=['product_id'], how='left', indicator=True)\n",
    "erp_liaison.head()"
   ]
  },
  {
   "cell_type": "code",
   "execution_count": 34,
   "id": "e2466c7e",
   "metadata": {},
   "outputs": [
    {
     "data": {
      "text/plain": [
       "both          825\n",
       "left_only       0\n",
       "right_only      0\n",
       "Name: _merge, dtype: int64"
      ]
     },
     "execution_count": 34,
     "metadata": {},
     "output_type": "execute_result"
    }
   ],
   "source": [
    "erp_liaison['_merge'].value_counts()"
   ]
  },
  {
   "cell_type": "code",
   "execution_count": 35,
   "id": "df76ee3b",
   "metadata": {},
   "outputs": [],
   "source": [
    "# Supprime l'indicateur pour la prochaine jointure\n",
    "\n",
    "erp_liaison.drop(columns=['_merge'], inplace=True)"
   ]
  },
  {
   "cell_type": "code",
   "execution_count": 36,
   "id": "b2153ca1",
   "metadata": {},
   "outputs": [
    {
     "data": {
      "text/plain": [
       "(825, 6)"
      ]
     },
     "execution_count": 36,
     "metadata": {},
     "output_type": "execute_result"
    }
   ],
   "source": [
    "erp_liaison.shape"
   ]
  },
  {
   "cell_type": "code",
   "execution_count": 37,
   "id": "9627d028",
   "metadata": {},
   "outputs": [
    {
     "data": {
      "text/html": [
       "<div>\n",
       "<style scoped>\n",
       "    .dataframe tbody tr th:only-of-type {\n",
       "        vertical-align: middle;\n",
       "    }\n",
       "\n",
       "    .dataframe tbody tr th {\n",
       "        vertical-align: top;\n",
       "    }\n",
       "\n",
       "    .dataframe thead th {\n",
       "        text-align: right;\n",
       "    }\n",
       "</style>\n",
       "<table border=\"1\" class=\"dataframe\">\n",
       "  <thead>\n",
       "    <tr style=\"text-align: right;\">\n",
       "      <th></th>\n",
       "      <th>product_id</th>\n",
       "      <th>onsale_web</th>\n",
       "      <th>price</th>\n",
       "      <th>stock_quantity</th>\n",
       "      <th>stock_status</th>\n",
       "      <th>web_id</th>\n",
       "    </tr>\n",
       "  </thead>\n",
       "  <tbody>\n",
       "    <tr>\n",
       "      <th>469</th>\n",
       "      <td>5017</td>\n",
       "      <td>0</td>\n",
       "      <td>-8.0</td>\n",
       "      <td>0</td>\n",
       "      <td>outofstock</td>\n",
       "      <td>NaN</td>\n",
       "    </tr>\n",
       "    <tr>\n",
       "      <th>739</th>\n",
       "      <td>6594</td>\n",
       "      <td>0</td>\n",
       "      <td>-1.0</td>\n",
       "      <td>192</td>\n",
       "      <td>instock</td>\n",
       "      <td>NaN</td>\n",
       "    </tr>\n",
       "  </tbody>\n",
       "</table>\n",
       "</div>"
      ],
      "text/plain": [
       "     product_id  onsale_web  price  stock_quantity stock_status web_id\n",
       "469        5017           0   -8.0               0   outofstock    NaN\n",
       "739        6594           0   -1.0             192      instock    NaN"
      ]
     },
     "execution_count": 37,
     "metadata": {},
     "output_type": "execute_result"
    }
   ],
   "source": [
    "# On s'était posé la question par rapport à 2 produits qui ont un prix négatif, dans tous les cas on les ecartes de notre\n",
    "# analyse car ils n'ont pas de correspondance avec les produits venduent sur le web ('web_id' + onsale_web=0)\n",
    "\n",
    "erp_liaison.loc[erp_liaison['price']<0,:]"
   ]
  },
  {
   "cell_type": "code",
   "execution_count": 38,
   "id": "1d532223",
   "metadata": {},
   "outputs": [],
   "source": [
    "# On a vu qu'il y avait des valeurs null pour le champs: 'web_id', on va donc les séparer car on ne peut pas les utiliserer.\n",
    "# Ici on fait une sauvegarde de la partie qu'on utilise pas.\n",
    "\n",
    "S_erp_liaison = erp_liaison[erp_liaison['web_id'].isna()]"
   ]
  },
  {
   "cell_type": "code",
   "execution_count": 39,
   "id": "ddf2098e",
   "metadata": {},
   "outputs": [],
   "source": [
    "# Une fois stocké on peut donc les enlever de la table avec lequel on va continuer de travailler\n",
    "\n",
    "erp_liaison = erp_liaison.dropna(subset=['web_id'])"
   ]
  },
  {
   "cell_type": "code",
   "execution_count": 40,
   "id": "3384b274",
   "metadata": {},
   "outputs": [
    {
     "data": {
      "text/plain": [
       "(734, 6)"
      ]
     },
     "execution_count": 40,
     "metadata": {},
     "output_type": "execute_result"
    }
   ],
   "source": [
    "# Vérifie qu'on a supprimer nos 91 valeurs nulles de sku : 825-91 = 734 valeurs restantes.\n",
    "\n",
    "erp_liaison.shape"
   ]
  },
  {
   "cell_type": "markdown",
   "id": "6848a996",
   "metadata": {},
   "source": [
    "<h2 align=\"center\"> <font color='006899'>D. Netoyage de la table WEB </font>  <h2>    "
   ]
  },
  {
   "cell_type": "code",
   "execution_count": 41,
   "id": "bc8e8d51",
   "metadata": {},
   "outputs": [
    {
     "data": {
      "text/plain": [
       "(1513, 28)"
      ]
     },
     "execution_count": 41,
     "metadata": {},
     "output_type": "execute_result"
    }
   ],
   "source": [
    "# Consulte le nombre de colonnes et lignes\n",
    "\n",
    "web.shape"
   ]
  },
  {
   "cell_type": "code",
   "execution_count": 42,
   "id": "eee91e6c",
   "metadata": {
    "scrolled": true
   },
   "outputs": [
    {
     "data": {
      "text/plain": [
       "sku                              object\n",
       "virtual                           int64\n",
       "downloadable                      int64\n",
       "rating_count                      int64\n",
       "average_rating                  float64\n",
       "total_sales                     float64\n",
       "tax_status                       object\n",
       "tax_class                       float64\n",
       "post_author                     float64\n",
       "post_date                datetime64[ns]\n",
       "post_date_gmt            datetime64[ns]\n",
       "post_content                    float64\n",
       "post_title                       object\n",
       "post_excerpt                     object\n",
       "post_status                      object\n",
       "comment_status                   object\n",
       "ping_status                      object\n",
       "post_password                   float64\n",
       "post_name                        object\n",
       "post_modified            datetime64[ns]\n",
       "post_modified_gmt        datetime64[ns]\n",
       "post_content_filtered           float64\n",
       "post_parent                     float64\n",
       "guid                             object\n",
       "menu_order                      float64\n",
       "post_type                        object\n",
       "post_mime_type                   object\n",
       "comment_count                   float64\n",
       "dtype: object"
      ]
     },
     "execution_count": 42,
     "metadata": {},
     "output_type": "execute_result"
    }
   ],
   "source": [
    "# La nature des données dans chacune des colonnes\n",
    "\n",
    "web.dtypes"
   ]
  },
  {
   "cell_type": "code",
   "execution_count": 43,
   "id": "a75d68f6",
   "metadata": {},
   "outputs": [
    {
     "data": {
      "text/html": [
       "<div>\n",
       "<style scoped>\n",
       "    .dataframe tbody tr th:only-of-type {\n",
       "        vertical-align: middle;\n",
       "    }\n",
       "\n",
       "    .dataframe tbody tr th {\n",
       "        vertical-align: top;\n",
       "    }\n",
       "\n",
       "    .dataframe thead th {\n",
       "        text-align: right;\n",
       "    }\n",
       "</style>\n",
       "<table border=\"1\" class=\"dataframe\">\n",
       "  <thead>\n",
       "    <tr style=\"text-align: right;\">\n",
       "      <th></th>\n",
       "      <th>virtual</th>\n",
       "      <th>downloadable</th>\n",
       "      <th>rating_count</th>\n",
       "      <th>average_rating</th>\n",
       "      <th>total_sales</th>\n",
       "      <th>tax_class</th>\n",
       "      <th>post_author</th>\n",
       "      <th>post_content</th>\n",
       "      <th>post_password</th>\n",
       "      <th>post_content_filtered</th>\n",
       "      <th>post_parent</th>\n",
       "      <th>menu_order</th>\n",
       "      <th>comment_count</th>\n",
       "    </tr>\n",
       "  </thead>\n",
       "  <tbody>\n",
       "    <tr>\n",
       "      <th>count</th>\n",
       "      <td>1513.0</td>\n",
       "      <td>1513.0</td>\n",
       "      <td>1513.0</td>\n",
       "      <td>1430.0</td>\n",
       "      <td>1430.000000</td>\n",
       "      <td>0.0</td>\n",
       "      <td>1430.000000</td>\n",
       "      <td>0.0</td>\n",
       "      <td>0.0</td>\n",
       "      <td>0.0</td>\n",
       "      <td>1430.0</td>\n",
       "      <td>1430.0</td>\n",
       "      <td>1430.0</td>\n",
       "    </tr>\n",
       "    <tr>\n",
       "      <th>mean</th>\n",
       "      <td>0.0</td>\n",
       "      <td>0.0</td>\n",
       "      <td>0.0</td>\n",
       "      <td>0.0</td>\n",
       "      <td>3.855245</td>\n",
       "      <td>NaN</td>\n",
       "      <td>1.998601</td>\n",
       "      <td>NaN</td>\n",
       "      <td>NaN</td>\n",
       "      <td>NaN</td>\n",
       "      <td>0.0</td>\n",
       "      <td>0.0</td>\n",
       "      <td>0.0</td>\n",
       "    </tr>\n",
       "    <tr>\n",
       "      <th>std</th>\n",
       "      <td>0.0</td>\n",
       "      <td>0.0</td>\n",
       "      <td>0.0</td>\n",
       "      <td>0.0</td>\n",
       "      <td>7.702346</td>\n",
       "      <td>NaN</td>\n",
       "      <td>0.037385</td>\n",
       "      <td>NaN</td>\n",
       "      <td>NaN</td>\n",
       "      <td>NaN</td>\n",
       "      <td>0.0</td>\n",
       "      <td>0.0</td>\n",
       "      <td>0.0</td>\n",
       "    </tr>\n",
       "    <tr>\n",
       "      <th>min</th>\n",
       "      <td>0.0</td>\n",
       "      <td>0.0</td>\n",
       "      <td>0.0</td>\n",
       "      <td>0.0</td>\n",
       "      <td>0.000000</td>\n",
       "      <td>NaN</td>\n",
       "      <td>1.000000</td>\n",
       "      <td>NaN</td>\n",
       "      <td>NaN</td>\n",
       "      <td>NaN</td>\n",
       "      <td>0.0</td>\n",
       "      <td>0.0</td>\n",
       "      <td>0.0</td>\n",
       "    </tr>\n",
       "    <tr>\n",
       "      <th>25%</th>\n",
       "      <td>0.0</td>\n",
       "      <td>0.0</td>\n",
       "      <td>0.0</td>\n",
       "      <td>0.0</td>\n",
       "      <td>0.000000</td>\n",
       "      <td>NaN</td>\n",
       "      <td>2.000000</td>\n",
       "      <td>NaN</td>\n",
       "      <td>NaN</td>\n",
       "      <td>NaN</td>\n",
       "      <td>0.0</td>\n",
       "      <td>0.0</td>\n",
       "      <td>0.0</td>\n",
       "    </tr>\n",
       "    <tr>\n",
       "      <th>50%</th>\n",
       "      <td>0.0</td>\n",
       "      <td>0.0</td>\n",
       "      <td>0.0</td>\n",
       "      <td>0.0</td>\n",
       "      <td>1.000000</td>\n",
       "      <td>NaN</td>\n",
       "      <td>2.000000</td>\n",
       "      <td>NaN</td>\n",
       "      <td>NaN</td>\n",
       "      <td>NaN</td>\n",
       "      <td>0.0</td>\n",
       "      <td>0.0</td>\n",
       "      <td>0.0</td>\n",
       "    </tr>\n",
       "    <tr>\n",
       "      <th>75%</th>\n",
       "      <td>0.0</td>\n",
       "      <td>0.0</td>\n",
       "      <td>0.0</td>\n",
       "      <td>0.0</td>\n",
       "      <td>4.000000</td>\n",
       "      <td>NaN</td>\n",
       "      <td>2.000000</td>\n",
       "      <td>NaN</td>\n",
       "      <td>NaN</td>\n",
       "      <td>NaN</td>\n",
       "      <td>0.0</td>\n",
       "      <td>0.0</td>\n",
       "      <td>0.0</td>\n",
       "    </tr>\n",
       "    <tr>\n",
       "      <th>max</th>\n",
       "      <td>0.0</td>\n",
       "      <td>0.0</td>\n",
       "      <td>0.0</td>\n",
       "      <td>0.0</td>\n",
       "      <td>96.000000</td>\n",
       "      <td>NaN</td>\n",
       "      <td>2.000000</td>\n",
       "      <td>NaN</td>\n",
       "      <td>NaN</td>\n",
       "      <td>NaN</td>\n",
       "      <td>0.0</td>\n",
       "      <td>0.0</td>\n",
       "      <td>0.0</td>\n",
       "    </tr>\n",
       "  </tbody>\n",
       "</table>\n",
       "</div>"
      ],
      "text/plain": [
       "       virtual  downloadable  rating_count  average_rating  total_sales  \\\n",
       "count   1513.0        1513.0        1513.0          1430.0  1430.000000   \n",
       "mean       0.0           0.0           0.0             0.0     3.855245   \n",
       "std        0.0           0.0           0.0             0.0     7.702346   \n",
       "min        0.0           0.0           0.0             0.0     0.000000   \n",
       "25%        0.0           0.0           0.0             0.0     0.000000   \n",
       "50%        0.0           0.0           0.0             0.0     1.000000   \n",
       "75%        0.0           0.0           0.0             0.0     4.000000   \n",
       "max        0.0           0.0           0.0             0.0    96.000000   \n",
       "\n",
       "       tax_class  post_author  post_content  post_password  \\\n",
       "count        0.0  1430.000000           0.0            0.0   \n",
       "mean         NaN     1.998601           NaN            NaN   \n",
       "std          NaN     0.037385           NaN            NaN   \n",
       "min          NaN     1.000000           NaN            NaN   \n",
       "25%          NaN     2.000000           NaN            NaN   \n",
       "50%          NaN     2.000000           NaN            NaN   \n",
       "75%          NaN     2.000000           NaN            NaN   \n",
       "max          NaN     2.000000           NaN            NaN   \n",
       "\n",
       "       post_content_filtered  post_parent  menu_order  comment_count  \n",
       "count                    0.0       1430.0      1430.0         1430.0  \n",
       "mean                     NaN          0.0         0.0            0.0  \n",
       "std                      NaN          0.0         0.0            0.0  \n",
       "min                      NaN          0.0         0.0            0.0  \n",
       "25%                      NaN          0.0         0.0            0.0  \n",
       "50%                      NaN          0.0         0.0            0.0  \n",
       "75%                      NaN          0.0         0.0            0.0  \n",
       "max                      NaN          0.0         0.0            0.0  "
      ]
     },
     "execution_count": 43,
     "metadata": {},
     "output_type": "execute_result"
    }
   ],
   "source": [
    "# Vérification pas de valeurs abéranttes dans les min et max par exemple --> donne une idée générale\n",
    "\n",
    "web.describe()"
   ]
  },
  {
   "cell_type": "code",
   "execution_count": 44,
   "id": "99a8b0f2",
   "metadata": {},
   "outputs": [
    {
     "data": {
      "text/plain": [
       "sku                        85\n",
       "virtual                     0\n",
       "downloadable                0\n",
       "rating_count                0\n",
       "average_rating             83\n",
       "total_sales                83\n",
       "tax_status                797\n",
       "tax_class                1513\n",
       "post_author                83\n",
       "post_date                  83\n",
       "post_date_gmt              83\n",
       "post_content             1513\n",
       "post_title                 83\n",
       "post_excerpt              797\n",
       "post_status                83\n",
       "comment_status             83\n",
       "ping_status                83\n",
       "post_password            1513\n",
       "post_name                  83\n",
       "post_modified              83\n",
       "post_modified_gmt          83\n",
       "post_content_filtered    1513\n",
       "post_parent                83\n",
       "guid                       83\n",
       "menu_order                 83\n",
       "post_type                  83\n",
       "post_mime_type            799\n",
       "comment_count              83\n",
       "dtype: int64"
      ]
     },
     "execution_count": 44,
     "metadata": {},
     "output_type": "execute_result"
    }
   ],
   "source": [
    "# Regarde si il existe des valeurs nulles dans cette table --> ici beaucoup, on fera du cas par cas\n",
    "\n",
    "web.isna().sum()"
   ]
  },
  {
   "cell_type": "code",
   "execution_count": 45,
   "id": "cef8930f",
   "metadata": {},
   "outputs": [
    {
     "data": {
      "text/html": [
       "<div>\n",
       "<style scoped>\n",
       "    .dataframe tbody tr th:only-of-type {\n",
       "        vertical-align: middle;\n",
       "    }\n",
       "\n",
       "    .dataframe tbody tr th {\n",
       "        vertical-align: top;\n",
       "    }\n",
       "\n",
       "    .dataframe thead th {\n",
       "        text-align: right;\n",
       "    }\n",
       "</style>\n",
       "<table border=\"1\" class=\"dataframe\">\n",
       "  <thead>\n",
       "    <tr style=\"text-align: right;\">\n",
       "      <th></th>\n",
       "      <th>sku</th>\n",
       "      <th>virtual</th>\n",
       "      <th>downloadable</th>\n",
       "      <th>rating_count</th>\n",
       "      <th>average_rating</th>\n",
       "      <th>total_sales</th>\n",
       "      <th>tax_status</th>\n",
       "      <th>tax_class</th>\n",
       "      <th>post_author</th>\n",
       "      <th>post_date</th>\n",
       "      <th>...</th>\n",
       "      <th>post_name</th>\n",
       "      <th>post_modified</th>\n",
       "      <th>post_modified_gmt</th>\n",
       "      <th>post_content_filtered</th>\n",
       "      <th>post_parent</th>\n",
       "      <th>guid</th>\n",
       "      <th>menu_order</th>\n",
       "      <th>post_type</th>\n",
       "      <th>post_mime_type</th>\n",
       "      <th>comment_count</th>\n",
       "    </tr>\n",
       "  </thead>\n",
       "  <tbody>\n",
       "    <tr>\n",
       "      <th>0</th>\n",
       "      <td>16004</td>\n",
       "      <td>0</td>\n",
       "      <td>0</td>\n",
       "      <td>0</td>\n",
       "      <td>0.0</td>\n",
       "      <td>5.0</td>\n",
       "      <td>NaN</td>\n",
       "      <td>NaN</td>\n",
       "      <td>2.0</td>\n",
       "      <td>2018-06-07 16:27:25</td>\n",
       "      <td>...</td>\n",
       "      <td>chateau-du-couvent-pomerol-2017</td>\n",
       "      <td>2020-08-25 18:35:02</td>\n",
       "      <td>2020-08-25 16:35:02</td>\n",
       "      <td>NaN</td>\n",
       "      <td>0.0</td>\n",
       "      <td>https://www.bottle-neck.fr/wp-content/uploads/...</td>\n",
       "      <td>0.0</td>\n",
       "      <td>attachment</td>\n",
       "      <td>image/jpeg</td>\n",
       "      <td>0.0</td>\n",
       "    </tr>\n",
       "    <tr>\n",
       "      <th>1</th>\n",
       "      <td>NaN</td>\n",
       "      <td>0</td>\n",
       "      <td>0</td>\n",
       "      <td>0</td>\n",
       "      <td>NaN</td>\n",
       "      <td>NaN</td>\n",
       "      <td>NaN</td>\n",
       "      <td>NaN</td>\n",
       "      <td>NaN</td>\n",
       "      <td>NaT</td>\n",
       "      <td>...</td>\n",
       "      <td>NaN</td>\n",
       "      <td>NaT</td>\n",
       "      <td>NaT</td>\n",
       "      <td>NaN</td>\n",
       "      <td>NaN</td>\n",
       "      <td>NaN</td>\n",
       "      <td>NaN</td>\n",
       "      <td>NaN</td>\n",
       "      <td>NaN</td>\n",
       "      <td>NaN</td>\n",
       "    </tr>\n",
       "    <tr>\n",
       "      <th>2</th>\n",
       "      <td>15075</td>\n",
       "      <td>0</td>\n",
       "      <td>0</td>\n",
       "      <td>0</td>\n",
       "      <td>0.0</td>\n",
       "      <td>3.0</td>\n",
       "      <td>taxable</td>\n",
       "      <td>NaN</td>\n",
       "      <td>2.0</td>\n",
       "      <td>2018-02-14 15:39:43</td>\n",
       "      <td>...</td>\n",
       "      <td>pares-balta-penedes-indigena-2017</td>\n",
       "      <td>2020-08-20 15:35:02</td>\n",
       "      <td>2020-08-20 13:35:02</td>\n",
       "      <td>NaN</td>\n",
       "      <td>0.0</td>\n",
       "      <td>https://www.bottle-neck.fr/?post_type=product&amp;...</td>\n",
       "      <td>0.0</td>\n",
       "      <td>product</td>\n",
       "      <td>NaN</td>\n",
       "      <td>0.0</td>\n",
       "    </tr>\n",
       "    <tr>\n",
       "      <th>3</th>\n",
       "      <td>16209</td>\n",
       "      <td>0</td>\n",
       "      <td>0</td>\n",
       "      <td>0</td>\n",
       "      <td>0.0</td>\n",
       "      <td>6.0</td>\n",
       "      <td>taxable</td>\n",
       "      <td>NaN</td>\n",
       "      <td>2.0</td>\n",
       "      <td>2018-02-14 17:15:31</td>\n",
       "      <td>...</td>\n",
       "      <td>maurel-cabardes-tradition-2017</td>\n",
       "      <td>2020-08-05 18:05:03</td>\n",
       "      <td>2020-08-05 16:05:03</td>\n",
       "      <td>NaN</td>\n",
       "      <td>0.0</td>\n",
       "      <td>https://www.bottle-neck.fr/?post_type=product&amp;...</td>\n",
       "      <td>0.0</td>\n",
       "      <td>product</td>\n",
       "      <td>NaN</td>\n",
       "      <td>0.0</td>\n",
       "    </tr>\n",
       "    <tr>\n",
       "      <th>4</th>\n",
       "      <td>15763</td>\n",
       "      <td>0</td>\n",
       "      <td>0</td>\n",
       "      <td>0</td>\n",
       "      <td>0.0</td>\n",
       "      <td>1.0</td>\n",
       "      <td>NaN</td>\n",
       "      <td>NaN</td>\n",
       "      <td>2.0</td>\n",
       "      <td>2020-01-25 14:08:16</td>\n",
       "      <td>...</td>\n",
       "      <td>domaine-de-la-monardiere-vacqueyras-les-vieill...</td>\n",
       "      <td>2020-08-21 11:35:02</td>\n",
       "      <td>2020-08-21 09:35:02</td>\n",
       "      <td>NaN</td>\n",
       "      <td>0.0</td>\n",
       "      <td>https://www.bottle-neck.fr/wp-content/uploads/...</td>\n",
       "      <td>0.0</td>\n",
       "      <td>attachment</td>\n",
       "      <td>image/jpeg</td>\n",
       "      <td>0.0</td>\n",
       "    </tr>\n",
       "  </tbody>\n",
       "</table>\n",
       "<p>5 rows × 28 columns</p>\n",
       "</div>"
      ],
      "text/plain": [
       "     sku  virtual  downloadable  rating_count  average_rating  total_sales  \\\n",
       "0  16004        0             0             0             0.0          5.0   \n",
       "1    NaN        0             0             0             NaN          NaN   \n",
       "2  15075        0             0             0             0.0          3.0   \n",
       "3  16209        0             0             0             0.0          6.0   \n",
       "4  15763        0             0             0             0.0          1.0   \n",
       "\n",
       "  tax_status  tax_class  post_author           post_date  ...  \\\n",
       "0        NaN        NaN          2.0 2018-06-07 16:27:25  ...   \n",
       "1        NaN        NaN          NaN                 NaT  ...   \n",
       "2    taxable        NaN          2.0 2018-02-14 15:39:43  ...   \n",
       "3    taxable        NaN          2.0 2018-02-14 17:15:31  ...   \n",
       "4        NaN        NaN          2.0 2020-01-25 14:08:16  ...   \n",
       "\n",
       "                                           post_name       post_modified  \\\n",
       "0                    chateau-du-couvent-pomerol-2017 2020-08-25 18:35:02   \n",
       "1                                                NaN                 NaT   \n",
       "2                  pares-balta-penedes-indigena-2017 2020-08-20 15:35:02   \n",
       "3                     maurel-cabardes-tradition-2017 2020-08-05 18:05:03   \n",
       "4  domaine-de-la-monardiere-vacqueyras-les-vieill... 2020-08-21 11:35:02   \n",
       "\n",
       "    post_modified_gmt post_content_filtered post_parent  \\\n",
       "0 2020-08-25 16:35:02                   NaN         0.0   \n",
       "1                 NaT                   NaN         NaN   \n",
       "2 2020-08-20 13:35:02                   NaN         0.0   \n",
       "3 2020-08-05 16:05:03                   NaN         0.0   \n",
       "4 2020-08-21 09:35:02                   NaN         0.0   \n",
       "\n",
       "                                                guid menu_order   post_type  \\\n",
       "0  https://www.bottle-neck.fr/wp-content/uploads/...        0.0  attachment   \n",
       "1                                                NaN        NaN         NaN   \n",
       "2  https://www.bottle-neck.fr/?post_type=product&...        0.0     product   \n",
       "3  https://www.bottle-neck.fr/?post_type=product&...        0.0     product   \n",
       "4  https://www.bottle-neck.fr/wp-content/uploads/...        0.0  attachment   \n",
       "\n",
       "  post_mime_type comment_count  \n",
       "0     image/jpeg           0.0  \n",
       "1            NaN           NaN  \n",
       "2            NaN           0.0  \n",
       "3            NaN           0.0  \n",
       "4     image/jpeg           0.0  \n",
       "\n",
       "[5 rows x 28 columns]"
      ]
     },
     "execution_count": 45,
     "metadata": {},
     "output_type": "execute_result"
    }
   ],
   "source": [
    "# Affichage les 5 premières lignes de la table\n",
    "\n",
    "web.head()"
   ]
  },
  {
   "cell_type": "code",
   "execution_count": 46,
   "id": "c28dbcc5",
   "metadata": {},
   "outputs": [
    {
     "data": {
      "text/plain": [
       "714"
      ]
     },
     "execution_count": 46,
     "metadata": {},
     "output_type": "execute_result"
    }
   ],
   "source": [
    "# Vérifie l'unicité de la clé, ici sku qu'on renomme en web_id: 714 valeurs uniques pour 1513 lignes on approfondit notre recherche\n",
    "\n",
    "web = web.rename(columns={\"sku\": \"web_id\"})\n",
    "web['web_id'].nunique()"
   ]
  },
  {
   "cell_type": "code",
   "execution_count": 47,
   "id": "7dc8a821",
   "metadata": {},
   "outputs": [
    {
     "data": {
      "text/html": [
       "<div>\n",
       "<style scoped>\n",
       "    .dataframe tbody tr th:only-of-type {\n",
       "        vertical-align: middle;\n",
       "    }\n",
       "\n",
       "    .dataframe tbody tr th {\n",
       "        vertical-align: top;\n",
       "    }\n",
       "\n",
       "    .dataframe thead th {\n",
       "        text-align: right;\n",
       "    }\n",
       "</style>\n",
       "<table border=\"1\" class=\"dataframe\">\n",
       "  <thead>\n",
       "    <tr style=\"text-align: right;\">\n",
       "      <th></th>\n",
       "      <th>web_id</th>\n",
       "      <th>virtual</th>\n",
       "      <th>downloadable</th>\n",
       "      <th>rating_count</th>\n",
       "      <th>average_rating</th>\n",
       "      <th>total_sales</th>\n",
       "      <th>tax_status</th>\n",
       "      <th>tax_class</th>\n",
       "      <th>post_author</th>\n",
       "      <th>post_date</th>\n",
       "      <th>...</th>\n",
       "      <th>post_name</th>\n",
       "      <th>post_modified</th>\n",
       "      <th>post_modified_gmt</th>\n",
       "      <th>post_content_filtered</th>\n",
       "      <th>post_parent</th>\n",
       "      <th>guid</th>\n",
       "      <th>menu_order</th>\n",
       "      <th>post_type</th>\n",
       "      <th>post_mime_type</th>\n",
       "      <th>comment_count</th>\n",
       "    </tr>\n",
       "  </thead>\n",
       "  <tbody>\n",
       "    <tr>\n",
       "      <th>17</th>\n",
       "      <td>NaN</td>\n",
       "      <td>0</td>\n",
       "      <td>0</td>\n",
       "      <td>0</td>\n",
       "      <td>NaN</td>\n",
       "      <td>NaN</td>\n",
       "      <td>NaN</td>\n",
       "      <td>NaN</td>\n",
       "      <td>NaN</td>\n",
       "      <td>NaT</td>\n",
       "      <td>...</td>\n",
       "      <td>NaN</td>\n",
       "      <td>NaT</td>\n",
       "      <td>NaT</td>\n",
       "      <td>NaN</td>\n",
       "      <td>NaN</td>\n",
       "      <td>NaN</td>\n",
       "      <td>NaN</td>\n",
       "      <td>NaN</td>\n",
       "      <td>NaN</td>\n",
       "      <td>NaN</td>\n",
       "    </tr>\n",
       "    <tr>\n",
       "      <th>82</th>\n",
       "      <td>NaN</td>\n",
       "      <td>0</td>\n",
       "      <td>0</td>\n",
       "      <td>0</td>\n",
       "      <td>NaN</td>\n",
       "      <td>NaN</td>\n",
       "      <td>NaN</td>\n",
       "      <td>NaN</td>\n",
       "      <td>NaN</td>\n",
       "      <td>NaT</td>\n",
       "      <td>...</td>\n",
       "      <td>NaN</td>\n",
       "      <td>NaT</td>\n",
       "      <td>NaT</td>\n",
       "      <td>NaN</td>\n",
       "      <td>NaN</td>\n",
       "      <td>NaN</td>\n",
       "      <td>NaN</td>\n",
       "      <td>NaN</td>\n",
       "      <td>NaN</td>\n",
       "      <td>NaN</td>\n",
       "    </tr>\n",
       "    <tr>\n",
       "      <th>97</th>\n",
       "      <td>NaN</td>\n",
       "      <td>0</td>\n",
       "      <td>0</td>\n",
       "      <td>0</td>\n",
       "      <td>NaN</td>\n",
       "      <td>NaN</td>\n",
       "      <td>NaN</td>\n",
       "      <td>NaN</td>\n",
       "      <td>NaN</td>\n",
       "      <td>NaT</td>\n",
       "      <td>...</td>\n",
       "      <td>NaN</td>\n",
       "      <td>NaT</td>\n",
       "      <td>NaT</td>\n",
       "      <td>NaN</td>\n",
       "      <td>NaN</td>\n",
       "      <td>NaN</td>\n",
       "      <td>NaN</td>\n",
       "      <td>NaN</td>\n",
       "      <td>NaN</td>\n",
       "      <td>NaN</td>\n",
       "    </tr>\n",
       "    <tr>\n",
       "      <th>121</th>\n",
       "      <td>NaN</td>\n",
       "      <td>0</td>\n",
       "      <td>0</td>\n",
       "      <td>0</td>\n",
       "      <td>NaN</td>\n",
       "      <td>NaN</td>\n",
       "      <td>NaN</td>\n",
       "      <td>NaN</td>\n",
       "      <td>NaN</td>\n",
       "      <td>NaT</td>\n",
       "      <td>...</td>\n",
       "      <td>NaN</td>\n",
       "      <td>NaT</td>\n",
       "      <td>NaT</td>\n",
       "      <td>NaN</td>\n",
       "      <td>NaN</td>\n",
       "      <td>NaN</td>\n",
       "      <td>NaN</td>\n",
       "      <td>NaN</td>\n",
       "      <td>NaN</td>\n",
       "      <td>NaN</td>\n",
       "    </tr>\n",
       "    <tr>\n",
       "      <th>126</th>\n",
       "      <td>NaN</td>\n",
       "      <td>0</td>\n",
       "      <td>0</td>\n",
       "      <td>0</td>\n",
       "      <td>NaN</td>\n",
       "      <td>NaN</td>\n",
       "      <td>NaN</td>\n",
       "      <td>NaN</td>\n",
       "      <td>NaN</td>\n",
       "      <td>NaT</td>\n",
       "      <td>...</td>\n",
       "      <td>NaN</td>\n",
       "      <td>NaT</td>\n",
       "      <td>NaT</td>\n",
       "      <td>NaN</td>\n",
       "      <td>NaN</td>\n",
       "      <td>NaN</td>\n",
       "      <td>NaN</td>\n",
       "      <td>NaN</td>\n",
       "      <td>NaN</td>\n",
       "      <td>NaN</td>\n",
       "    </tr>\n",
       "    <tr>\n",
       "      <th>...</th>\n",
       "      <td>...</td>\n",
       "      <td>...</td>\n",
       "      <td>...</td>\n",
       "      <td>...</td>\n",
       "      <td>...</td>\n",
       "      <td>...</td>\n",
       "      <td>...</td>\n",
       "      <td>...</td>\n",
       "      <td>...</td>\n",
       "      <td>...</td>\n",
       "      <td>...</td>\n",
       "      <td>...</td>\n",
       "      <td>...</td>\n",
       "      <td>...</td>\n",
       "      <td>...</td>\n",
       "      <td>...</td>\n",
       "      <td>...</td>\n",
       "      <td>...</td>\n",
       "      <td>...</td>\n",
       "      <td>...</td>\n",
       "      <td>...</td>\n",
       "    </tr>\n",
       "    <tr>\n",
       "      <th>1378</th>\n",
       "      <td>NaN</td>\n",
       "      <td>0</td>\n",
       "      <td>0</td>\n",
       "      <td>0</td>\n",
       "      <td>NaN</td>\n",
       "      <td>NaN</td>\n",
       "      <td>NaN</td>\n",
       "      <td>NaN</td>\n",
       "      <td>NaN</td>\n",
       "      <td>NaT</td>\n",
       "      <td>...</td>\n",
       "      <td>NaN</td>\n",
       "      <td>NaT</td>\n",
       "      <td>NaT</td>\n",
       "      <td>NaN</td>\n",
       "      <td>NaN</td>\n",
       "      <td>NaN</td>\n",
       "      <td>NaN</td>\n",
       "      <td>NaN</td>\n",
       "      <td>NaN</td>\n",
       "      <td>NaN</td>\n",
       "    </tr>\n",
       "    <tr>\n",
       "      <th>1421</th>\n",
       "      <td>NaN</td>\n",
       "      <td>0</td>\n",
       "      <td>0</td>\n",
       "      <td>0</td>\n",
       "      <td>NaN</td>\n",
       "      <td>NaN</td>\n",
       "      <td>NaN</td>\n",
       "      <td>NaN</td>\n",
       "      <td>NaN</td>\n",
       "      <td>NaT</td>\n",
       "      <td>...</td>\n",
       "      <td>NaN</td>\n",
       "      <td>NaT</td>\n",
       "      <td>NaT</td>\n",
       "      <td>NaN</td>\n",
       "      <td>NaN</td>\n",
       "      <td>NaN</td>\n",
       "      <td>NaN</td>\n",
       "      <td>NaN</td>\n",
       "      <td>NaN</td>\n",
       "      <td>NaN</td>\n",
       "    </tr>\n",
       "    <tr>\n",
       "      <th>1448</th>\n",
       "      <td>NaN</td>\n",
       "      <td>0</td>\n",
       "      <td>0</td>\n",
       "      <td>0</td>\n",
       "      <td>NaN</td>\n",
       "      <td>NaN</td>\n",
       "      <td>NaN</td>\n",
       "      <td>NaN</td>\n",
       "      <td>NaN</td>\n",
       "      <td>NaT</td>\n",
       "      <td>...</td>\n",
       "      <td>NaN</td>\n",
       "      <td>NaT</td>\n",
       "      <td>NaT</td>\n",
       "      <td>NaN</td>\n",
       "      <td>NaN</td>\n",
       "      <td>NaN</td>\n",
       "      <td>NaN</td>\n",
       "      <td>NaN</td>\n",
       "      <td>NaN</td>\n",
       "      <td>NaN</td>\n",
       "    </tr>\n",
       "    <tr>\n",
       "      <th>1450</th>\n",
       "      <td>NaN</td>\n",
       "      <td>0</td>\n",
       "      <td>0</td>\n",
       "      <td>0</td>\n",
       "      <td>NaN</td>\n",
       "      <td>NaN</td>\n",
       "      <td>NaN</td>\n",
       "      <td>NaN</td>\n",
       "      <td>NaN</td>\n",
       "      <td>NaT</td>\n",
       "      <td>...</td>\n",
       "      <td>NaN</td>\n",
       "      <td>NaT</td>\n",
       "      <td>NaT</td>\n",
       "      <td>NaN</td>\n",
       "      <td>NaN</td>\n",
       "      <td>NaN</td>\n",
       "      <td>NaN</td>\n",
       "      <td>NaN</td>\n",
       "      <td>NaN</td>\n",
       "      <td>NaN</td>\n",
       "    </tr>\n",
       "    <tr>\n",
       "      <th>1496</th>\n",
       "      <td>NaN</td>\n",
       "      <td>0</td>\n",
       "      <td>0</td>\n",
       "      <td>0</td>\n",
       "      <td>NaN</td>\n",
       "      <td>NaN</td>\n",
       "      <td>NaN</td>\n",
       "      <td>NaN</td>\n",
       "      <td>NaN</td>\n",
       "      <td>NaT</td>\n",
       "      <td>...</td>\n",
       "      <td>NaN</td>\n",
       "      <td>NaT</td>\n",
       "      <td>NaT</td>\n",
       "      <td>NaN</td>\n",
       "      <td>NaN</td>\n",
       "      <td>NaN</td>\n",
       "      <td>NaN</td>\n",
       "      <td>NaN</td>\n",
       "      <td>NaN</td>\n",
       "      <td>NaN</td>\n",
       "    </tr>\n",
       "  </tbody>\n",
       "</table>\n",
       "<p>82 rows × 28 columns</p>\n",
       "</div>"
      ],
      "text/plain": [
       "     web_id  virtual  downloadable  rating_count  average_rating  total_sales  \\\n",
       "17      NaN        0             0             0             NaN          NaN   \n",
       "82      NaN        0             0             0             NaN          NaN   \n",
       "97      NaN        0             0             0             NaN          NaN   \n",
       "121     NaN        0             0             0             NaN          NaN   \n",
       "126     NaN        0             0             0             NaN          NaN   \n",
       "...     ...      ...           ...           ...             ...          ...   \n",
       "1378    NaN        0             0             0             NaN          NaN   \n",
       "1421    NaN        0             0             0             NaN          NaN   \n",
       "1448    NaN        0             0             0             NaN          NaN   \n",
       "1450    NaN        0             0             0             NaN          NaN   \n",
       "1496    NaN        0             0             0             NaN          NaN   \n",
       "\n",
       "     tax_status  tax_class  post_author post_date  ... post_name  \\\n",
       "17          NaN        NaN          NaN       NaT  ...       NaN   \n",
       "82          NaN        NaN          NaN       NaT  ...       NaN   \n",
       "97          NaN        NaN          NaN       NaT  ...       NaN   \n",
       "121         NaN        NaN          NaN       NaT  ...       NaN   \n",
       "126         NaN        NaN          NaN       NaT  ...       NaN   \n",
       "...         ...        ...          ...       ...  ...       ...   \n",
       "1378        NaN        NaN          NaN       NaT  ...       NaN   \n",
       "1421        NaN        NaN          NaN       NaT  ...       NaN   \n",
       "1448        NaN        NaN          NaN       NaT  ...       NaN   \n",
       "1450        NaN        NaN          NaN       NaT  ...       NaN   \n",
       "1496        NaN        NaN          NaN       NaT  ...       NaN   \n",
       "\n",
       "      post_modified post_modified_gmt post_content_filtered post_parent guid  \\\n",
       "17              NaT               NaT                   NaN         NaN  NaN   \n",
       "82              NaT               NaT                   NaN         NaN  NaN   \n",
       "97              NaT               NaT                   NaN         NaN  NaN   \n",
       "121             NaT               NaT                   NaN         NaN  NaN   \n",
       "126             NaT               NaT                   NaN         NaN  NaN   \n",
       "...             ...               ...                   ...         ...  ...   \n",
       "1378            NaT               NaT                   NaN         NaN  NaN   \n",
       "1421            NaT               NaT                   NaN         NaN  NaN   \n",
       "1448            NaT               NaT                   NaN         NaN  NaN   \n",
       "1450            NaT               NaT                   NaN         NaN  NaN   \n",
       "1496            NaT               NaT                   NaN         NaN  NaN   \n",
       "\n",
       "     menu_order  post_type post_mime_type comment_count  \n",
       "17          NaN        NaN            NaN           NaN  \n",
       "82          NaN        NaN            NaN           NaN  \n",
       "97          NaN        NaN            NaN           NaN  \n",
       "121         NaN        NaN            NaN           NaN  \n",
       "126         NaN        NaN            NaN           NaN  \n",
       "...         ...        ...            ...           ...  \n",
       "1378        NaN        NaN            NaN           NaN  \n",
       "1421        NaN        NaN            NaN           NaN  \n",
       "1448        NaN        NaN            NaN           NaN  \n",
       "1450        NaN        NaN            NaN           NaN  \n",
       "1496        NaN        NaN            NaN           NaN  \n",
       "\n",
       "[82 rows x 28 columns]"
      ]
     },
     "execution_count": 47,
     "metadata": {},
     "output_type": "execute_result"
    }
   ],
   "source": [
    "#Regarde si il y a des doublons --> ici 82 doublons d'une ligne vide avec juste 3 champs = 0\n",
    "\n",
    "web[web.duplicated()]\n",
    "\n",
    "# web.duplicated().sum()"
   ]
  },
  {
   "cell_type": "code",
   "execution_count": 48,
   "id": "4b080a41",
   "metadata": {},
   "outputs": [
    {
     "data": {
      "text/plain": [
       "web_id                   NaN\n",
       "virtual                    0\n",
       "downloadable               0\n",
       "rating_count               0\n",
       "average_rating           NaN\n",
       "total_sales              NaN\n",
       "tax_status               NaN\n",
       "tax_class                NaN\n",
       "post_author              NaN\n",
       "post_date                NaT\n",
       "post_date_gmt            NaT\n",
       "post_content             NaN\n",
       "post_title               NaN\n",
       "post_excerpt             NaN\n",
       "post_status              NaN\n",
       "comment_status           NaN\n",
       "ping_status              NaN\n",
       "post_password            NaN\n",
       "post_name                NaN\n",
       "post_modified            NaT\n",
       "post_modified_gmt        NaT\n",
       "post_content_filtered    NaN\n",
       "post_parent              NaN\n",
       "guid                     NaN\n",
       "menu_order               NaN\n",
       "post_type                NaN\n",
       "post_mime_type           NaN\n",
       "comment_count            NaN\n",
       "Name: 17, dtype: object"
      ]
     },
     "execution_count": 48,
     "metadata": {},
     "output_type": "execute_result"
    }
   ],
   "source": [
    "# On voit que la ligne dont l'index est 17 contient que des Nan et 3 valeurs = 0, et on sait qu'elle est doublé 82 fois.\n",
    "# Nan not a numeric / NaT not a time (date)\n",
    "\n",
    "web.loc[17]"
   ]
  },
  {
   "cell_type": "code",
   "execution_count": 49,
   "id": "3377b1d2",
   "metadata": {},
   "outputs": [
    {
     "data": {
      "text/plain": [
       "85"
      ]
     },
     "execution_count": 49,
     "metadata": {},
     "output_type": "execute_result"
    }
   ],
   "source": [
    "# Ici on voit qu'il y a 2 lignes qui n'ont pas de clé 'web_id mais qui ont des valeurs \n",
    "\n",
    "web['web_id'].isna().sum()"
   ]
  },
  {
   "cell_type": "code",
   "execution_count": 50,
   "id": "131d834a",
   "metadata": {},
   "outputs": [
    {
     "data": {
      "text/html": [
       "<div>\n",
       "<style scoped>\n",
       "    .dataframe tbody tr th:only-of-type {\n",
       "        vertical-align: middle;\n",
       "    }\n",
       "\n",
       "    .dataframe tbody tr th {\n",
       "        vertical-align: top;\n",
       "    }\n",
       "\n",
       "    .dataframe thead th {\n",
       "        text-align: right;\n",
       "    }\n",
       "</style>\n",
       "<table border=\"1\" class=\"dataframe\">\n",
       "  <thead>\n",
       "    <tr style=\"text-align: right;\">\n",
       "      <th></th>\n",
       "      <th>web_id</th>\n",
       "      <th>virtual</th>\n",
       "      <th>downloadable</th>\n",
       "      <th>rating_count</th>\n",
       "      <th>average_rating</th>\n",
       "      <th>total_sales</th>\n",
       "      <th>tax_status</th>\n",
       "      <th>tax_class</th>\n",
       "      <th>post_author</th>\n",
       "      <th>post_date</th>\n",
       "      <th>...</th>\n",
       "      <th>post_name</th>\n",
       "      <th>post_modified</th>\n",
       "      <th>post_modified_gmt</th>\n",
       "      <th>post_content_filtered</th>\n",
       "      <th>post_parent</th>\n",
       "      <th>guid</th>\n",
       "      <th>menu_order</th>\n",
       "      <th>post_type</th>\n",
       "      <th>post_mime_type</th>\n",
       "      <th>comment_count</th>\n",
       "    </tr>\n",
       "  </thead>\n",
       "  <tbody>\n",
       "    <tr>\n",
       "      <th>353</th>\n",
       "      <td>NaN</td>\n",
       "      <td>0</td>\n",
       "      <td>0</td>\n",
       "      <td>0</td>\n",
       "      <td>0.0</td>\n",
       "      <td>3.0</td>\n",
       "      <td>taxable</td>\n",
       "      <td>NaN</td>\n",
       "      <td>2.0</td>\n",
       "      <td>2018-08-08 11:23:43</td>\n",
       "      <td>...</td>\n",
       "      <td>pierre-jean-villa-condrieu-suspendu-2018</td>\n",
       "      <td>2019-11-02 13:24:01</td>\n",
       "      <td>2019-11-02 12:24:01</td>\n",
       "      <td>NaN</td>\n",
       "      <td>0.0</td>\n",
       "      <td>https://www.bottle-neck.fr/?post_type=product&amp;...</td>\n",
       "      <td>0.0</td>\n",
       "      <td>product</td>\n",
       "      <td>NaN</td>\n",
       "      <td>0.0</td>\n",
       "    </tr>\n",
       "    <tr>\n",
       "      <th>488</th>\n",
       "      <td>NaN</td>\n",
       "      <td>0</td>\n",
       "      <td>0</td>\n",
       "      <td>0</td>\n",
       "      <td>0.0</td>\n",
       "      <td>10.0</td>\n",
       "      <td>taxable</td>\n",
       "      <td>NaN</td>\n",
       "      <td>2.0</td>\n",
       "      <td>2018-07-31 12:07:23</td>\n",
       "      <td>...</td>\n",
       "      <td>pierre-jean-villa-cote-rotie-fongeant-2017</td>\n",
       "      <td>2019-11-02 13:24:15</td>\n",
       "      <td>2019-11-02 12:24:15</td>\n",
       "      <td>NaN</td>\n",
       "      <td>0.0</td>\n",
       "      <td>https://www.bottle-neck.fr/?post_type=product&amp;...</td>\n",
       "      <td>0.0</td>\n",
       "      <td>product</td>\n",
       "      <td>NaN</td>\n",
       "      <td>0.0</td>\n",
       "    </tr>\n",
       "  </tbody>\n",
       "</table>\n",
       "<p>2 rows × 28 columns</p>\n",
       "</div>"
      ],
      "text/plain": [
       "    web_id  virtual  downloadable  rating_count  average_rating  total_sales  \\\n",
       "353    NaN        0             0             0             0.0          3.0   \n",
       "488    NaN        0             0             0             0.0         10.0   \n",
       "\n",
       "    tax_status  tax_class  post_author           post_date  ...  \\\n",
       "353    taxable        NaN          2.0 2018-08-08 11:23:43  ...   \n",
       "488    taxable        NaN          2.0 2018-07-31 12:07:23  ...   \n",
       "\n",
       "                                      post_name       post_modified  \\\n",
       "353    pierre-jean-villa-condrieu-suspendu-2018 2019-11-02 13:24:01   \n",
       "488  pierre-jean-villa-cote-rotie-fongeant-2017 2019-11-02 13:24:15   \n",
       "\n",
       "      post_modified_gmt post_content_filtered post_parent  \\\n",
       "353 2019-11-02 12:24:01                   NaN         0.0   \n",
       "488 2019-11-02 12:24:15                   NaN         0.0   \n",
       "\n",
       "                                                  guid menu_order  post_type  \\\n",
       "353  https://www.bottle-neck.fr/?post_type=product&...        0.0    product   \n",
       "488  https://www.bottle-neck.fr/?post_type=product&...        0.0    product   \n",
       "\n",
       "    post_mime_type comment_count  \n",
       "353            NaN           0.0  \n",
       "488            NaN           0.0  \n",
       "\n",
       "[2 rows x 28 columns]"
      ]
     },
     "execution_count": 50,
     "metadata": {},
     "output_type": "execute_result"
    }
   ],
   "source": [
    "# On les identifie / comme ils ont des valeurs j'ai pris un champs au hasard ici post_date et filtré dessus\n",
    "\n",
    "web.loc[web['post_date'].notnull() & web['web_id'].isna(),:]"
   ]
  },
  {
   "cell_type": "code",
   "execution_count": 51,
   "id": "287856a6",
   "metadata": {},
   "outputs": [],
   "source": [
    "# Je vais donc stocker à part les 85 lignes qui n'ont pas de clé 'web_id'. (83 doublons + 2 lignes sans clé)\n",
    "\n",
    "S_web= web[web['web_id'].isna()]"
   ]
  },
  {
   "cell_type": "code",
   "execution_count": 52,
   "id": "df59a0bb",
   "metadata": {
    "scrolled": true
   },
   "outputs": [],
   "source": [
    "# Une fois stocké on peut donc les enlever de la table avec lequel on va continuer de travailler \n",
    "\n",
    "web = web.dropna(subset=['web_id'])"
   ]
  },
  {
   "cell_type": "code",
   "execution_count": 53,
   "id": "303d3955",
   "metadata": {},
   "outputs": [
    {
     "data": {
      "text/plain": [
       "(1428, 28)"
      ]
     },
     "execution_count": 53,
     "metadata": {},
     "output_type": "execute_result"
    }
   ],
   "source": [
    "# on regarde le nombre de ligne après ce nettoyage\n",
    "\n",
    "web.shape"
   ]
  },
  {
   "cell_type": "code",
   "execution_count": 54,
   "id": "7fd9fc06",
   "metadata": {},
   "outputs": [
    {
     "data": {
      "text/plain": [
       "714"
      ]
     },
     "execution_count": 54,
     "metadata": {},
     "output_type": "execute_result"
    }
   ],
   "source": [
    "# Ici on voit qu'il y a 714 doublons sur web_id, qu'ils ont été doublé\n",
    "\n",
    "len(web['web_id'])-len(web['web_id'].drop_duplicates())"
   ]
  },
  {
   "cell_type": "code",
   "execution_count": 55,
   "id": "8ed10bc9",
   "metadata": {},
   "outputs": [
    {
     "data": {
      "text/html": [
       "<div>\n",
       "<style scoped>\n",
       "    .dataframe tbody tr th:only-of-type {\n",
       "        vertical-align: middle;\n",
       "    }\n",
       "\n",
       "    .dataframe tbody tr th {\n",
       "        vertical-align: top;\n",
       "    }\n",
       "\n",
       "    .dataframe thead th {\n",
       "        text-align: right;\n",
       "    }\n",
       "</style>\n",
       "<table border=\"1\" class=\"dataframe\">\n",
       "  <thead>\n",
       "    <tr style=\"text-align: right;\">\n",
       "      <th></th>\n",
       "      <th>web_id</th>\n",
       "      <th>virtual</th>\n",
       "      <th>downloadable</th>\n",
       "      <th>rating_count</th>\n",
       "      <th>average_rating</th>\n",
       "      <th>total_sales</th>\n",
       "      <th>tax_status</th>\n",
       "      <th>tax_class</th>\n",
       "      <th>post_author</th>\n",
       "      <th>post_date</th>\n",
       "      <th>...</th>\n",
       "      <th>post_name</th>\n",
       "      <th>post_modified</th>\n",
       "      <th>post_modified_gmt</th>\n",
       "      <th>post_content_filtered</th>\n",
       "      <th>post_parent</th>\n",
       "      <th>guid</th>\n",
       "      <th>menu_order</th>\n",
       "      <th>post_type</th>\n",
       "      <th>post_mime_type</th>\n",
       "      <th>comment_count</th>\n",
       "    </tr>\n",
       "  </thead>\n",
       "  <tbody>\n",
       "    <tr>\n",
       "      <th>2</th>\n",
       "      <td>15075</td>\n",
       "      <td>0</td>\n",
       "      <td>0</td>\n",
       "      <td>0</td>\n",
       "      <td>0.0</td>\n",
       "      <td>3.0</td>\n",
       "      <td>taxable</td>\n",
       "      <td>NaN</td>\n",
       "      <td>2.0</td>\n",
       "      <td>2018-02-14 15:39:43</td>\n",
       "      <td>...</td>\n",
       "      <td>pares-balta-penedes-indigena-2017</td>\n",
       "      <td>2020-08-20 15:35:02</td>\n",
       "      <td>2020-08-20 13:35:02</td>\n",
       "      <td>NaN</td>\n",
       "      <td>0.0</td>\n",
       "      <td>https://www.bottle-neck.fr/?post_type=product&amp;...</td>\n",
       "      <td>0.0</td>\n",
       "      <td>product</td>\n",
       "      <td>NaN</td>\n",
       "      <td>0.0</td>\n",
       "    </tr>\n",
       "    <tr>\n",
       "      <th>1432</th>\n",
       "      <td>15075</td>\n",
       "      <td>0</td>\n",
       "      <td>0</td>\n",
       "      <td>0</td>\n",
       "      <td>0.0</td>\n",
       "      <td>3.0</td>\n",
       "      <td>NaN</td>\n",
       "      <td>NaN</td>\n",
       "      <td>2.0</td>\n",
       "      <td>2018-02-14 15:39:43</td>\n",
       "      <td>...</td>\n",
       "      <td>pares-balta-penedes-indigena-2017</td>\n",
       "      <td>2020-08-20 15:35:02</td>\n",
       "      <td>2020-08-20 13:35:02</td>\n",
       "      <td>NaN</td>\n",
       "      <td>0.0</td>\n",
       "      <td>https://www.bottle-neck.fr/wp-content/uploads/...</td>\n",
       "      <td>0.0</td>\n",
       "      <td>attachment</td>\n",
       "      <td>image/jpeg</td>\n",
       "      <td>0.0</td>\n",
       "    </tr>\n",
       "  </tbody>\n",
       "</table>\n",
       "<p>2 rows × 28 columns</p>\n",
       "</div>"
      ],
      "text/plain": [
       "     web_id  virtual  downloadable  rating_count  average_rating  total_sales  \\\n",
       "2     15075        0             0             0             0.0          3.0   \n",
       "1432  15075        0             0             0             0.0          3.0   \n",
       "\n",
       "     tax_status  tax_class  post_author           post_date  ...  \\\n",
       "2       taxable        NaN          2.0 2018-02-14 15:39:43  ...   \n",
       "1432        NaN        NaN          2.0 2018-02-14 15:39:43  ...   \n",
       "\n",
       "                              post_name       post_modified  \\\n",
       "2     pares-balta-penedes-indigena-2017 2020-08-20 15:35:02   \n",
       "1432  pares-balta-penedes-indigena-2017 2020-08-20 15:35:02   \n",
       "\n",
       "       post_modified_gmt post_content_filtered post_parent  \\\n",
       "2    2020-08-20 13:35:02                   NaN         0.0   \n",
       "1432 2020-08-20 13:35:02                   NaN         0.0   \n",
       "\n",
       "                                                   guid menu_order  \\\n",
       "2     https://www.bottle-neck.fr/?post_type=product&...        0.0   \n",
       "1432  https://www.bottle-neck.fr/wp-content/uploads/...        0.0   \n",
       "\n",
       "       post_type post_mime_type comment_count  \n",
       "2        product            NaN           0.0  \n",
       "1432  attachment     image/jpeg           0.0  \n",
       "\n",
       "[2 rows x 28 columns]"
      ]
     },
     "execution_count": 55,
     "metadata": {},
     "output_type": "execute_result"
    }
   ],
   "source": [
    "# On peut vérifier avec un web_id --> celui ci est bien doublé\n",
    "\n",
    "web.loc[web['web_id'] == 15075,:]"
   ]
  },
  {
   "cell_type": "code",
   "execution_count": 56,
   "id": "0fdfd784",
   "metadata": {},
   "outputs": [
    {
     "data": {
      "text/html": [
       "<div>\n",
       "<style scoped>\n",
       "    .dataframe tbody tr th:only-of-type {\n",
       "        vertical-align: middle;\n",
       "    }\n",
       "\n",
       "    .dataframe tbody tr th {\n",
       "        vertical-align: top;\n",
       "    }\n",
       "\n",
       "    .dataframe thead th {\n",
       "        text-align: right;\n",
       "    }\n",
       "</style>\n",
       "<table border=\"1\" class=\"dataframe\">\n",
       "  <thead>\n",
       "    <tr style=\"text-align: right;\">\n",
       "      <th></th>\n",
       "      <th>virtual</th>\n",
       "      <th>downloadable</th>\n",
       "      <th>rating_count</th>\n",
       "      <th>average_rating</th>\n",
       "      <th>total_sales</th>\n",
       "      <th>tax_class</th>\n",
       "      <th>post_author</th>\n",
       "      <th>post_content</th>\n",
       "      <th>post_password</th>\n",
       "      <th>post_content_filtered</th>\n",
       "      <th>post_parent</th>\n",
       "      <th>menu_order</th>\n",
       "      <th>comment_count</th>\n",
       "    </tr>\n",
       "    <tr>\n",
       "      <th>web_id</th>\n",
       "      <th></th>\n",
       "      <th></th>\n",
       "      <th></th>\n",
       "      <th></th>\n",
       "      <th></th>\n",
       "      <th></th>\n",
       "      <th></th>\n",
       "      <th></th>\n",
       "      <th></th>\n",
       "      <th></th>\n",
       "      <th></th>\n",
       "      <th></th>\n",
       "      <th></th>\n",
       "    </tr>\n",
       "  </thead>\n",
       "  <tbody>\n",
       "    <tr>\n",
       "      <th>38</th>\n",
       "      <td>0</td>\n",
       "      <td>0</td>\n",
       "      <td>0</td>\n",
       "      <td>0.0</td>\n",
       "      <td>76.0</td>\n",
       "      <td>0.0</td>\n",
       "      <td>4.0</td>\n",
       "      <td>0.0</td>\n",
       "      <td>0.0</td>\n",
       "      <td>0.0</td>\n",
       "      <td>0.0</td>\n",
       "      <td>0.0</td>\n",
       "      <td>0.0</td>\n",
       "    </tr>\n",
       "    <tr>\n",
       "      <th>41</th>\n",
       "      <td>0</td>\n",
       "      <td>0</td>\n",
       "      <td>0</td>\n",
       "      <td>0.0</td>\n",
       "      <td>0.0</td>\n",
       "      <td>0.0</td>\n",
       "      <td>4.0</td>\n",
       "      <td>0.0</td>\n",
       "      <td>0.0</td>\n",
       "      <td>0.0</td>\n",
       "      <td>0.0</td>\n",
       "      <td>0.0</td>\n",
       "      <td>0.0</td>\n",
       "    </tr>\n",
       "    <tr>\n",
       "      <th>304</th>\n",
       "      <td>0</td>\n",
       "      <td>0</td>\n",
       "      <td>0</td>\n",
       "      <td>0.0</td>\n",
       "      <td>80.0</td>\n",
       "      <td>0.0</td>\n",
       "      <td>4.0</td>\n",
       "      <td>0.0</td>\n",
       "      <td>0.0</td>\n",
       "      <td>0.0</td>\n",
       "      <td>0.0</td>\n",
       "      <td>0.0</td>\n",
       "      <td>0.0</td>\n",
       "    </tr>\n",
       "    <tr>\n",
       "      <th>523</th>\n",
       "      <td>0</td>\n",
       "      <td>0</td>\n",
       "      <td>0</td>\n",
       "      <td>0.0</td>\n",
       "      <td>0.0</td>\n",
       "      <td>0.0</td>\n",
       "      <td>4.0</td>\n",
       "      <td>0.0</td>\n",
       "      <td>0.0</td>\n",
       "      <td>0.0</td>\n",
       "      <td>0.0</td>\n",
       "      <td>0.0</td>\n",
       "      <td>0.0</td>\n",
       "    </tr>\n",
       "    <tr>\n",
       "      <th>531</th>\n",
       "      <td>0</td>\n",
       "      <td>0</td>\n",
       "      <td>0</td>\n",
       "      <td>0.0</td>\n",
       "      <td>26.0</td>\n",
       "      <td>0.0</td>\n",
       "      <td>4.0</td>\n",
       "      <td>0.0</td>\n",
       "      <td>0.0</td>\n",
       "      <td>0.0</td>\n",
       "      <td>0.0</td>\n",
       "      <td>0.0</td>\n",
       "      <td>0.0</td>\n",
       "    </tr>\n",
       "    <tr>\n",
       "      <th>...</th>\n",
       "      <td>...</td>\n",
       "      <td>...</td>\n",
       "      <td>...</td>\n",
       "      <td>...</td>\n",
       "      <td>...</td>\n",
       "      <td>...</td>\n",
       "      <td>...</td>\n",
       "      <td>...</td>\n",
       "      <td>...</td>\n",
       "      <td>...</td>\n",
       "      <td>...</td>\n",
       "      <td>...</td>\n",
       "      <td>...</td>\n",
       "    </tr>\n",
       "    <tr>\n",
       "      <th>19820</th>\n",
       "      <td>0</td>\n",
       "      <td>0</td>\n",
       "      <td>0</td>\n",
       "      <td>0.0</td>\n",
       "      <td>0.0</td>\n",
       "      <td>0.0</td>\n",
       "      <td>4.0</td>\n",
       "      <td>0.0</td>\n",
       "      <td>0.0</td>\n",
       "      <td>0.0</td>\n",
       "      <td>0.0</td>\n",
       "      <td>0.0</td>\n",
       "      <td>0.0</td>\n",
       "    </tr>\n",
       "    <tr>\n",
       "      <th>19821</th>\n",
       "      <td>0</td>\n",
       "      <td>0</td>\n",
       "      <td>0</td>\n",
       "      <td>0.0</td>\n",
       "      <td>0.0</td>\n",
       "      <td>0.0</td>\n",
       "      <td>4.0</td>\n",
       "      <td>0.0</td>\n",
       "      <td>0.0</td>\n",
       "      <td>0.0</td>\n",
       "      <td>0.0</td>\n",
       "      <td>0.0</td>\n",
       "      <td>0.0</td>\n",
       "    </tr>\n",
       "    <tr>\n",
       "      <th>19822</th>\n",
       "      <td>0</td>\n",
       "      <td>0</td>\n",
       "      <td>0</td>\n",
       "      <td>0.0</td>\n",
       "      <td>0.0</td>\n",
       "      <td>0.0</td>\n",
       "      <td>4.0</td>\n",
       "      <td>0.0</td>\n",
       "      <td>0.0</td>\n",
       "      <td>0.0</td>\n",
       "      <td>0.0</td>\n",
       "      <td>0.0</td>\n",
       "      <td>0.0</td>\n",
       "    </tr>\n",
       "    <tr>\n",
       "      <th>13127-1</th>\n",
       "      <td>0</td>\n",
       "      <td>0</td>\n",
       "      <td>0</td>\n",
       "      <td>0.0</td>\n",
       "      <td>0.0</td>\n",
       "      <td>0.0</td>\n",
       "      <td>4.0</td>\n",
       "      <td>0.0</td>\n",
       "      <td>0.0</td>\n",
       "      <td>0.0</td>\n",
       "      <td>0.0</td>\n",
       "      <td>0.0</td>\n",
       "      <td>0.0</td>\n",
       "    </tr>\n",
       "    <tr>\n",
       "      <th>bon-cadeau-25-euros</th>\n",
       "      <td>0</td>\n",
       "      <td>0</td>\n",
       "      <td>0</td>\n",
       "      <td>0.0</td>\n",
       "      <td>20.0</td>\n",
       "      <td>0.0</td>\n",
       "      <td>2.0</td>\n",
       "      <td>0.0</td>\n",
       "      <td>0.0</td>\n",
       "      <td>0.0</td>\n",
       "      <td>0.0</td>\n",
       "      <td>0.0</td>\n",
       "      <td>0.0</td>\n",
       "    </tr>\n",
       "  </tbody>\n",
       "</table>\n",
       "<p>714 rows × 13 columns</p>\n",
       "</div>"
      ],
      "text/plain": [
       "                     virtual  downloadable  rating_count  average_rating  \\\n",
       "web_id                                                                     \n",
       "38                         0             0             0             0.0   \n",
       "41                         0             0             0             0.0   \n",
       "304                        0             0             0             0.0   \n",
       "523                        0             0             0             0.0   \n",
       "531                        0             0             0             0.0   \n",
       "...                      ...           ...           ...             ...   \n",
       "19820                      0             0             0             0.0   \n",
       "19821                      0             0             0             0.0   \n",
       "19822                      0             0             0             0.0   \n",
       "13127-1                    0             0             0             0.0   \n",
       "bon-cadeau-25-euros        0             0             0             0.0   \n",
       "\n",
       "                     total_sales  tax_class  post_author  post_content  \\\n",
       "web_id                                                                   \n",
       "38                          76.0        0.0          4.0           0.0   \n",
       "41                           0.0        0.0          4.0           0.0   \n",
       "304                         80.0        0.0          4.0           0.0   \n",
       "523                          0.0        0.0          4.0           0.0   \n",
       "531                         26.0        0.0          4.0           0.0   \n",
       "...                          ...        ...          ...           ...   \n",
       "19820                        0.0        0.0          4.0           0.0   \n",
       "19821                        0.0        0.0          4.0           0.0   \n",
       "19822                        0.0        0.0          4.0           0.0   \n",
       "13127-1                      0.0        0.0          4.0           0.0   \n",
       "bon-cadeau-25-euros         20.0        0.0          2.0           0.0   \n",
       "\n",
       "                     post_password  post_content_filtered  post_parent  \\\n",
       "web_id                                                                   \n",
       "38                             0.0                    0.0          0.0   \n",
       "41                             0.0                    0.0          0.0   \n",
       "304                            0.0                    0.0          0.0   \n",
       "523                            0.0                    0.0          0.0   \n",
       "531                            0.0                    0.0          0.0   \n",
       "...                            ...                    ...          ...   \n",
       "19820                          0.0                    0.0          0.0   \n",
       "19821                          0.0                    0.0          0.0   \n",
       "19822                          0.0                    0.0          0.0   \n",
       "13127-1                        0.0                    0.0          0.0   \n",
       "bon-cadeau-25-euros            0.0                    0.0          0.0   \n",
       "\n",
       "                     menu_order  comment_count  \n",
       "web_id                                          \n",
       "38                          0.0            0.0  \n",
       "41                          0.0            0.0  \n",
       "304                         0.0            0.0  \n",
       "523                         0.0            0.0  \n",
       "531                         0.0            0.0  \n",
       "...                         ...            ...  \n",
       "19820                       0.0            0.0  \n",
       "19821                       0.0            0.0  \n",
       "19822                       0.0            0.0  \n",
       "13127-1                     0.0            0.0  \n",
       "bon-cadeau-25-euros         0.0            0.0  \n",
       "\n",
       "[714 rows x 13 columns]"
      ]
     },
     "execution_count": 56,
     "metadata": {},
     "output_type": "execute_result"
    }
   ],
   "source": [
    "# On regarde que c'est le cas pour tous  (13 colonnes car pas de sum sur des Nan bcp de colonnes sans valeurs)\n",
    "\n",
    "web.groupby(by = ['web_id']).sum()"
   ]
  },
  {
   "cell_type": "code",
   "execution_count": 57,
   "id": "c7547c12",
   "metadata": {},
   "outputs": [],
   "source": [
    "# On sauvegarde toute l'autre partie qu'on utilisera pas dans le même df de sauvegarde S_web\n",
    "\n",
    "S_web_TMP = web.loc[web['post_type'] == 'attachment',:]\n",
    "\n",
    "S_web = pd.concat([S_web,S_web_TMP])"
   ]
  },
  {
   "cell_type": "code",
   "execution_count": 58,
   "id": "1d306f7f",
   "metadata": {},
   "outputs": [],
   "source": [
    "# On voit qu'il y a plusieurs differences entre ces deux lignes qui ont le même ID 'web_id'.\n",
    "# On essaie de comprendre laquel on peut garder pour appliquer une règle sur toute la table\n",
    "# Ici on part du principe que le 'post_type' de la donnée principale est 'product'.\n",
    "\n",
    "web = web.loc[web['post_type'] == 'product',:]"
   ]
  },
  {
   "cell_type": "code",
   "execution_count": 59,
   "id": "52b6a0c2",
   "metadata": {},
   "outputs": [
    {
     "data": {
      "text/plain": [
       "714"
      ]
     },
     "execution_count": 59,
     "metadata": {},
     "output_type": "execute_result"
    }
   ],
   "source": [
    "# Retest l'unicité de la clé : 714 id unique pour 714 lignes\n",
    "\n",
    "web['web_id'].nunique()"
   ]
  },
  {
   "cell_type": "code",
   "execution_count": 60,
   "id": "b34dcb62",
   "metadata": {},
   "outputs": [
    {
     "data": {
      "text/plain": [
       "(714, 28)"
      ]
     },
     "execution_count": 60,
     "metadata": {},
     "output_type": "execute_result"
    }
   ],
   "source": [
    "# On vérifie la forme de la table\n",
    "\n",
    "web.shape"
   ]
  },
  {
   "cell_type": "code",
   "execution_count": 61,
   "id": "0824d65b",
   "metadata": {},
   "outputs": [],
   "source": [
    "# On essaie de comprendre nos champs de cette table \n",
    "# j'ai décidé de les laisser mêmes si ils sont vides"
   ]
  },
  {
   "cell_type": "code",
   "execution_count": 62,
   "id": "3f98259f",
   "metadata": {},
   "outputs": [
    {
     "data": {
      "text/plain": [
       "0    714\n",
       "Name: virtual, dtype: int64"
      ]
     },
     "execution_count": 62,
     "metadata": {},
     "output_type": "execute_result"
    }
   ],
   "source": [
    "# Champs : virtual --> que des valeurs egale à 0\n",
    "\n",
    "web['virtual'].value_counts()"
   ]
  },
  {
   "cell_type": "code",
   "execution_count": 63,
   "id": "c97f0d6e",
   "metadata": {},
   "outputs": [
    {
     "data": {
      "text/plain": [
       "0    714\n",
       "Name: downloadable, dtype: int64"
      ]
     },
     "execution_count": 63,
     "metadata": {},
     "output_type": "execute_result"
    }
   ],
   "source": [
    "# Champs : downloadable --> que des valeurs egale à 0\n",
    "\n",
    "web['downloadable'].value_counts()"
   ]
  },
  {
   "cell_type": "code",
   "execution_count": 64,
   "id": "6c829f86",
   "metadata": {},
   "outputs": [
    {
     "data": {
      "text/plain": [
       "0    714\n",
       "Name: rating_count, dtype: int64"
      ]
     },
     "execution_count": 64,
     "metadata": {},
     "output_type": "execute_result"
    }
   ],
   "source": [
    "# Champs : rating_count --> que des valeurs egale à 0\n",
    "\n",
    "web['rating_count'].value_counts()"
   ]
  },
  {
   "cell_type": "code",
   "execution_count": 65,
   "id": "5b7949d5",
   "metadata": {},
   "outputs": [
    {
     "data": {
      "text/plain": [
       "0.0    714\n",
       "Name: average_rating, dtype: int64"
      ]
     },
     "execution_count": 65,
     "metadata": {},
     "output_type": "execute_result"
    }
   ],
   "source": [
    "# Champs : average_rating --> que des valeurs egale à 0\n",
    "\n",
    "web['average_rating'].value_counts()"
   ]
  },
  {
   "cell_type": "code",
   "execution_count": 66,
   "id": "0938990e",
   "metadata": {
    "scrolled": true
   },
   "outputs": [
    {
     "data": {
      "text/plain": [
       "0.0     329\n",
       "1.0      87\n",
       "3.0      52\n",
       "2.0      40\n",
       "4.0      30\n",
       "6.0      25\n",
       "5.0      22\n",
       "7.0      19\n",
       "12.0     15\n",
       "9.0      10\n",
       "10.0     10\n",
       "8.0      10\n",
       "18.0      7\n",
       "11.0      7\n",
       "13.0      6\n",
       "19.0      5\n",
       "14.0      4\n",
       "15.0      4\n",
       "38.0      2\n",
       "22.0      2\n",
       "20.0      2\n",
       "17.0      2\n",
       "30.0      2\n",
       "36.0      2\n",
       "24.0      2\n",
       "23.0      2\n",
       "16.0      2\n",
       "32.0      1\n",
       "29.0      1\n",
       "41.0      1\n",
       "33.0      1\n",
       "62.0      1\n",
       "21.0      1\n",
       "40.0      1\n",
       "96.0      1\n",
       "42.0      1\n",
       "46.0      1\n",
       "26.0      1\n",
       "37.0      1\n",
       "43.0      1\n",
       "87.0      1\n",
       "Name: total_sales, dtype: int64"
      ]
     },
     "execution_count": 66,
     "metadata": {},
     "output_type": "execute_result"
    }
   ],
   "source": [
    "# Champs : total_sales --> correspond au total des ventes d'un produit\n",
    "\n",
    "web['total_sales'].value_counts()"
   ]
  },
  {
   "cell_type": "code",
   "execution_count": 67,
   "id": "3892068b",
   "metadata": {},
   "outputs": [
    {
     "data": {
      "text/plain": [
       "taxable    714\n",
       "Name: tax_status, dtype: int64"
      ]
     },
     "execution_count": 67,
     "metadata": {},
     "output_type": "execute_result"
    }
   ],
   "source": [
    "# Champs : tax_status --> information pour savoir si le produit est taxé ou non, ici tous les produits sont taxés\n",
    "\n",
    "web['tax_status'].value_counts()"
   ]
  },
  {
   "cell_type": "code",
   "execution_count": 68,
   "id": "80c89cb7",
   "metadata": {},
   "outputs": [
    {
     "data": {
      "text/plain": [
       "Series([], Name: tax_class, dtype: int64)"
      ]
     },
     "execution_count": 68,
     "metadata": {},
     "output_type": "execute_result"
    }
   ],
   "source": [
    "# Champs : tax_class --> que des valeurs nulles, surement pour indiquer un tx de taxage, peut être utile dans le futur\n",
    "\n",
    "web['tax_class'].value_counts()"
   ]
  },
  {
   "cell_type": "code",
   "execution_count": 69,
   "id": "65aa7748",
   "metadata": {},
   "outputs": [
    {
     "data": {
      "text/plain": [
       "2.0    713\n",
       "1.0      1\n",
       "Name: post_author, dtype: int64"
      ]
     },
     "execution_count": 69,
     "metadata": {},
     "output_type": "execute_result"
    }
   ],
   "source": [
    "# Champs : post_author --> 2 variation de valeur 1 ou 2 \n",
    "\n",
    "web['post_author'].value_counts()"
   ]
  },
  {
   "cell_type": "code",
   "execution_count": 70,
   "id": "3d2f55ea",
   "metadata": {},
   "outputs": [
    {
     "data": {
      "text/plain": [
       "714"
      ]
     },
     "execution_count": 70,
     "metadata": {},
     "output_type": "execute_result"
    }
   ],
   "source": [
    "# Champs : post_date / post_date_gmt / post_modified / post_modified_gmt --> dates de création et de modification\n",
    "\n",
    "web['post_date'].value_counts().sum()\n",
    "web['post_date_gmt'].value_counts().sum()\n",
    "web['post_modified'].value_counts().sum()\n",
    "web['post_modified_gmt'].value_counts().sum()"
   ]
  },
  {
   "cell_type": "code",
   "execution_count": 71,
   "id": "d1518e0b",
   "metadata": {},
   "outputs": [
    {
     "data": {
      "text/plain": [
       "Series([], Name: post_content, dtype: int64)"
      ]
     },
     "execution_count": 71,
     "metadata": {},
     "output_type": "execute_result"
    }
   ],
   "source": [
    "# Champs : post_content --> que des valeurs nulles, peut être utile dans le futur\n",
    "\n",
    "web['post_content'].value_counts()"
   ]
  },
  {
   "cell_type": "code",
   "execution_count": 72,
   "id": "bcb88488",
   "metadata": {},
   "outputs": [
    {
     "data": {
      "text/plain": [
       "714"
      ]
     },
     "execution_count": 72,
     "metadata": {},
     "output_type": "execute_result"
    }
   ],
   "source": [
    "# Champs : post_title --> Indique le titre du post du produit sur le web\n",
    "\n",
    "web['post_title'].value_counts().sum()"
   ]
  },
  {
   "cell_type": "code",
   "execution_count": 73,
   "id": "d6863cb3",
   "metadata": {},
   "outputs": [
    {
     "data": {
      "text/plain": [
       "714"
      ]
     },
     "execution_count": 73,
     "metadata": {},
     "output_type": "execute_result"
    }
   ],
   "source": [
    "# Champs : post_excerpt --> descriptif du produit sur le web\n",
    "\n",
    "web['post_excerpt'].value_counts().sum()"
   ]
  },
  {
   "cell_type": "code",
   "execution_count": 74,
   "id": "bb914534",
   "metadata": {},
   "outputs": [
    {
     "data": {
      "text/plain": [
       "publish    714\n",
       "Name: post_status, dtype: int64"
      ]
     },
     "execution_count": 74,
     "metadata": {},
     "output_type": "execute_result"
    }
   ],
   "source": [
    "# Champs : post_status--> status de l'annonce web? tous publiés\n",
    "\n",
    "web['post_status'].value_counts()"
   ]
  },
  {
   "cell_type": "code",
   "execution_count": 75,
   "id": "6f21b224",
   "metadata": {},
   "outputs": [
    {
     "data": {
      "text/plain": [
       "closed    714\n",
       "Name: comment_status, dtype: int64"
      ]
     },
     "execution_count": 75,
     "metadata": {},
     "output_type": "execute_result"
    }
   ],
   "source": [
    "# Champs : comment_status --> status des commentaires web? tous fermés\n",
    "\n",
    "web['comment_status'].value_counts()"
   ]
  },
  {
   "cell_type": "code",
   "execution_count": 76,
   "id": "c5e8ea98",
   "metadata": {},
   "outputs": [
    {
     "data": {
      "text/plain": [
       "closed    714\n",
       "Name: ping_status, dtype: int64"
      ]
     },
     "execution_count": 76,
     "metadata": {},
     "output_type": "execute_result"
    }
   ],
   "source": [
    "# Champs : ping_status--> statut de la connexion? tous fermés\n",
    "\n",
    "web['ping_status'].value_counts()"
   ]
  },
  {
   "cell_type": "code",
   "execution_count": 77,
   "id": "63f23e68",
   "metadata": {},
   "outputs": [
    {
     "data": {
      "text/plain": [
       "Series([], Name: post_password, dtype: int64)"
      ]
     },
     "execution_count": 77,
     "metadata": {},
     "output_type": "execute_result"
    }
   ],
   "source": [
    "# Champs : post_password --> que des valeurs nulles, peut être utile dans le futur\n",
    "\n",
    "web['post_password'].value_counts()"
   ]
  },
  {
   "cell_type": "code",
   "execution_count": 78,
   "id": "e369f91c",
   "metadata": {},
   "outputs": [
    {
     "data": {
      "text/plain": [
       "714"
      ]
     },
     "execution_count": 78,
     "metadata": {},
     "output_type": "execute_result"
    }
   ],
   "source": [
    "# Champs : post_name --> Indique le nom et millésime du produit / similaire au champs post_title\n",
    "\n",
    "web['post_name'].value_counts().sum()"
   ]
  },
  {
   "cell_type": "code",
   "execution_count": 79,
   "id": "0049b8cf",
   "metadata": {},
   "outputs": [
    {
     "data": {
      "text/plain": [
       "Series([], Name: post_content_filtered, dtype: int64)"
      ]
     },
     "execution_count": 79,
     "metadata": {},
     "output_type": "execute_result"
    }
   ],
   "source": [
    "# Champs : post_content_filtered --> que des valeurs nulles, peut être utile dans le futur\n",
    "\n",
    "web['post_content_filtered'].value_counts()"
   ]
  },
  {
   "cell_type": "code",
   "execution_count": 80,
   "id": "da7f253f",
   "metadata": {},
   "outputs": [
    {
     "data": {
      "text/plain": [
       "0.0    714\n",
       "Name: post_parent, dtype: int64"
      ]
     },
     "execution_count": 80,
     "metadata": {},
     "output_type": "execute_result"
    }
   ],
   "source": [
    "# Champs : post_parent --> que des valeurs egale à 0\n",
    "\n",
    "web['post_parent'].value_counts()"
   ]
  },
  {
   "cell_type": "code",
   "execution_count": 81,
   "id": "4610b386",
   "metadata": {},
   "outputs": [
    {
     "data": {
      "text/plain": [
       "714"
      ]
     },
     "execution_count": 81,
     "metadata": {},
     "output_type": "execute_result"
    }
   ],
   "source": [
    "# Champs : guid --> correspond au lien internet des produits\n",
    "\n",
    "web['guid'].value_counts().sum()"
   ]
  },
  {
   "cell_type": "code",
   "execution_count": 82,
   "id": "4eecf68b",
   "metadata": {},
   "outputs": [
    {
     "data": {
      "text/plain": [
       "0.0    714\n",
       "Name: menu_order, dtype: int64"
      ]
     },
     "execution_count": 82,
     "metadata": {},
     "output_type": "execute_result"
    }
   ],
   "source": [
    "# Champs : menu_order --> que des valeurs egale à 0\n",
    "\n",
    "web['menu_order'].value_counts()"
   ]
  },
  {
   "cell_type": "code",
   "execution_count": 83,
   "id": "10570840",
   "metadata": {},
   "outputs": [
    {
     "data": {
      "text/plain": [
       "product    714\n",
       "Name: post_type, dtype: int64"
      ]
     },
     "execution_count": 83,
     "metadata": {},
     "output_type": "execute_result"
    }
   ],
   "source": [
    "# Champs : post_type --> Comme on a pu le voir le plus tôt, peut etre product ou attachement, pèce jointe ou produit.\n",
    "\n",
    "web['post_type'].value_counts()"
   ]
  },
  {
   "cell_type": "code",
   "execution_count": 84,
   "id": "d5e73bf8",
   "metadata": {},
   "outputs": [
    {
     "data": {
      "text/plain": [
       "Series([], Name: post_mime_type, dtype: int64)"
      ]
     },
     "execution_count": 84,
     "metadata": {},
     "output_type": "execute_result"
    }
   ],
   "source": [
    "# Champs : post_mime_type --> que des valeurs nulles, peut être utile dans le futur\n",
    "\n",
    "web['post_mime_type'].value_counts()"
   ]
  },
  {
   "cell_type": "code",
   "execution_count": 85,
   "id": "83ac8c9a",
   "metadata": {},
   "outputs": [
    {
     "data": {
      "text/plain": [
       "0.0    714\n",
       "Name: comment_count, dtype: int64"
      ]
     },
     "execution_count": 85,
     "metadata": {},
     "output_type": "execute_result"
    }
   ],
   "source": [
    "# Champs : comment_count --> que des valeurs egale à 0\n",
    "\n",
    "web['comment_count'].value_counts()"
   ]
  },
  {
   "cell_type": "markdown",
   "id": "0e6586df",
   "metadata": {},
   "source": [
    "<h2 align=\"center\"> <font color='006899'>E. Deuxième jointure entre la table créée et la table web</font>  <h2>        "
   ]
  },
  {
   "cell_type": "code",
   "execution_count": 86,
   "id": "cf5686ea",
   "metadata": {},
   "outputs": [],
   "source": [
    "# Avant de joindre les 2 tables on compare les id 'web_id' de la table erp_liaison et de la table web\n",
    "\n",
    "# Création d'une liste de tous les id web de la table erp_liaison \n",
    "List_erp_liaison_web_id = erp_liaison['web_id'].tolist()\n",
    "\n",
    "# Création d'une liste de tous les id web de la table web\n",
    "List_web_web_id= web['web_id'].tolist()"
   ]
  },
  {
   "cell_type": "code",
   "execution_count": 87,
   "id": "051eb3b1",
   "metadata": {},
   "outputs": [
    {
     "name": "stdout",
     "output_type": "stream",
     "text": [
      "False\n"
     ]
    }
   ],
   "source": [
    "# On applique la même methode qu'on a vu plus tôt mais ici ca me retourne false, normal car \n",
    "# nous avons pas le même nombre d'id unique : 734 pour erp_liaison et 714 pour web. On va faire autrement\n",
    "\n",
    "print(compare_list(List_erp_liaison_web_id , List_web_web_id))"
   ]
  },
  {
   "cell_type": "code",
   "execution_count": 88,
   "id": "07f4bb95",
   "metadata": {},
   "outputs": [],
   "source": [
    "# les valeurs qui ne correspondent pas entre les deux listes ont les stock dans une nouvelle liste\n",
    "\n",
    "List_PasCorrespondance = [x for x in List_erp_liaison_web_id + List_web_web_id if x not in List_erp_liaison_web_id or x not in List_web_web_id]"
   ]
  },
  {
   "cell_type": "code",
   "execution_count": 123,
   "id": "2b7b6fa5",
   "metadata": {},
   "outputs": [
    {
     "data": {
      "text/plain": [
       "[13771,\n",
       " 15065,\n",
       " 14785,\n",
       " 12601,\n",
       " 15154,\n",
       " 14360,\n",
       " 15608,\n",
       " 15586,\n",
       " 15272,\n",
       " 15630,\n",
       " 14648,\n",
       " 14715,\n",
       " 14730,\n",
       " 14689,\n",
       " 14379,\n",
       " 15609,\n",
       " 14377,\n",
       " 13577,\n",
       " 15529,\n",
       " '14680-1']"
      ]
     },
     "execution_count": 123,
     "metadata": {},
     "output_type": "execute_result"
    }
   ],
   "source": [
    "List_PasCorrespondance"
   ]
  },
  {
   "cell_type": "code",
   "execution_count": 89,
   "id": "2f5dfb3a",
   "metadata": {},
   "outputs": [
    {
     "data": {
      "text/html": [
       "<div>\n",
       "<style scoped>\n",
       "    .dataframe tbody tr th:only-of-type {\n",
       "        vertical-align: middle;\n",
       "    }\n",
       "\n",
       "    .dataframe tbody tr th {\n",
       "        vertical-align: top;\n",
       "    }\n",
       "\n",
       "    .dataframe thead th {\n",
       "        text-align: right;\n",
       "    }\n",
       "</style>\n",
       "<table border=\"1\" class=\"dataframe\">\n",
       "  <thead>\n",
       "    <tr style=\"text-align: right;\">\n",
       "      <th></th>\n",
       "      <th>product_id</th>\n",
       "      <th>onsale_web</th>\n",
       "      <th>price</th>\n",
       "      <th>stock_quantity</th>\n",
       "      <th>stock_status</th>\n",
       "      <th>web_id</th>\n",
       "    </tr>\n",
       "  </thead>\n",
       "  <tbody>\n",
       "    <tr>\n",
       "      <th>193</th>\n",
       "      <td>4289</td>\n",
       "      <td>0</td>\n",
       "      <td>22.8</td>\n",
       "      <td>0</td>\n",
       "      <td>outofstock</td>\n",
       "      <td>13771</td>\n",
       "    </tr>\n",
       "    <tr>\n",
       "      <th>236</th>\n",
       "      <td>4568</td>\n",
       "      <td>0</td>\n",
       "      <td>21.5</td>\n",
       "      <td>0</td>\n",
       "      <td>outofstock</td>\n",
       "      <td>15065</td>\n",
       "    </tr>\n",
       "    <tr>\n",
       "      <th>241</th>\n",
       "      <td>4584</td>\n",
       "      <td>0</td>\n",
       "      <td>32.3</td>\n",
       "      <td>0</td>\n",
       "      <td>outofstock</td>\n",
       "      <td>14785</td>\n",
       "    </tr>\n",
       "    <tr>\n",
       "      <th>355</th>\n",
       "      <td>4741</td>\n",
       "      <td>0</td>\n",
       "      <td>12.4</td>\n",
       "      <td>0</td>\n",
       "      <td>outofstock</td>\n",
       "      <td>12601</td>\n",
       "    </tr>\n",
       "    <tr>\n",
       "      <th>391</th>\n",
       "      <td>4864</td>\n",
       "      <td>0</td>\n",
       "      <td>8.3</td>\n",
       "      <td>0</td>\n",
       "      <td>outofstock</td>\n",
       "      <td>15154</td>\n",
       "    </tr>\n",
       "    <tr>\n",
       "      <th>394</th>\n",
       "      <td>4869</td>\n",
       "      <td>0</td>\n",
       "      <td>17.2</td>\n",
       "      <td>0</td>\n",
       "      <td>outofstock</td>\n",
       "      <td>14360</td>\n",
       "    </tr>\n",
       "    <tr>\n",
       "      <th>424</th>\n",
       "      <td>4921</td>\n",
       "      <td>0</td>\n",
       "      <td>13.8</td>\n",
       "      <td>0</td>\n",
       "      <td>outofstock</td>\n",
       "      <td>15608</td>\n",
       "    </tr>\n",
       "    <tr>\n",
       "      <th>425</th>\n",
       "      <td>4922</td>\n",
       "      <td>0</td>\n",
       "      <td>21.5</td>\n",
       "      <td>0</td>\n",
       "      <td>outofstock</td>\n",
       "      <td>15586</td>\n",
       "    </tr>\n",
       "    <tr>\n",
       "      <th>470</th>\n",
       "      <td>5018</td>\n",
       "      <td>0</td>\n",
       "      <td>15.4</td>\n",
       "      <td>0</td>\n",
       "      <td>outofstock</td>\n",
       "      <td>15272</td>\n",
       "    </tr>\n",
       "    <tr>\n",
       "      <th>473</th>\n",
       "      <td>5021</td>\n",
       "      <td>0</td>\n",
       "      <td>17.1</td>\n",
       "      <td>0</td>\n",
       "      <td>outofstock</td>\n",
       "      <td>15630</td>\n",
       "    </tr>\n",
       "    <tr>\n",
       "      <th>523</th>\n",
       "      <td>5505</td>\n",
       "      <td>0</td>\n",
       "      <td>10.1</td>\n",
       "      <td>0</td>\n",
       "      <td>outofstock</td>\n",
       "      <td>14648</td>\n",
       "    </tr>\n",
       "    <tr>\n",
       "      <th>540</th>\n",
       "      <td>5559</td>\n",
       "      <td>0</td>\n",
       "      <td>27.9</td>\n",
       "      <td>3</td>\n",
       "      <td>instock</td>\n",
       "      <td>14715</td>\n",
       "    </tr>\n",
       "    <tr>\n",
       "      <th>548</th>\n",
       "      <td>5570</td>\n",
       "      <td>0</td>\n",
       "      <td>22.5</td>\n",
       "      <td>0</td>\n",
       "      <td>outofstock</td>\n",
       "      <td>14730</td>\n",
       "    </tr>\n",
       "    <tr>\n",
       "      <th>613</th>\n",
       "      <td>5800</td>\n",
       "      <td>0</td>\n",
       "      <td>32.3</td>\n",
       "      <td>0</td>\n",
       "      <td>outofstock</td>\n",
       "      <td>14689</td>\n",
       "    </tr>\n",
       "    <tr>\n",
       "      <th>660</th>\n",
       "      <td>5953</td>\n",
       "      <td>0</td>\n",
       "      <td>47.5</td>\n",
       "      <td>0</td>\n",
       "      <td>outofstock</td>\n",
       "      <td>14379</td>\n",
       "    </tr>\n",
       "    <tr>\n",
       "      <th>661</th>\n",
       "      <td>5954</td>\n",
       "      <td>0</td>\n",
       "      <td>18.8</td>\n",
       "      <td>0</td>\n",
       "      <td>outofstock</td>\n",
       "      <td>15609</td>\n",
       "    </tr>\n",
       "    <tr>\n",
       "      <th>662</th>\n",
       "      <td>5955</td>\n",
       "      <td>0</td>\n",
       "      <td>27.3</td>\n",
       "      <td>0</td>\n",
       "      <td>outofstock</td>\n",
       "      <td>14377</td>\n",
       "    </tr>\n",
       "    <tr>\n",
       "      <th>664</th>\n",
       "      <td>5957</td>\n",
       "      <td>0</td>\n",
       "      <td>39.0</td>\n",
       "      <td>0</td>\n",
       "      <td>outofstock</td>\n",
       "      <td>13577</td>\n",
       "    </tr>\n",
       "    <tr>\n",
       "      <th>687</th>\n",
       "      <td>6100</td>\n",
       "      <td>0</td>\n",
       "      <td>12.9</td>\n",
       "      <td>0</td>\n",
       "      <td>outofstock</td>\n",
       "      <td>15529</td>\n",
       "    </tr>\n",
       "    <tr>\n",
       "      <th>823</th>\n",
       "      <td>7329</td>\n",
       "      <td>0</td>\n",
       "      <td>26.5</td>\n",
       "      <td>14</td>\n",
       "      <td>instock</td>\n",
       "      <td>14680-1</td>\n",
       "    </tr>\n",
       "  </tbody>\n",
       "</table>\n",
       "</div>"
      ],
      "text/plain": [
       "     product_id  onsale_web  price  stock_quantity stock_status   web_id\n",
       "193        4289           0   22.8               0   outofstock    13771\n",
       "236        4568           0   21.5               0   outofstock    15065\n",
       "241        4584           0   32.3               0   outofstock    14785\n",
       "355        4741           0   12.4               0   outofstock    12601\n",
       "391        4864           0    8.3               0   outofstock    15154\n",
       "394        4869           0   17.2               0   outofstock    14360\n",
       "424        4921           0   13.8               0   outofstock    15608\n",
       "425        4922           0   21.5               0   outofstock    15586\n",
       "470        5018           0   15.4               0   outofstock    15272\n",
       "473        5021           0   17.1               0   outofstock    15630\n",
       "523        5505           0   10.1               0   outofstock    14648\n",
       "540        5559           0   27.9               3      instock    14715\n",
       "548        5570           0   22.5               0   outofstock    14730\n",
       "613        5800           0   32.3               0   outofstock    14689\n",
       "660        5953           0   47.5               0   outofstock    14379\n",
       "661        5954           0   18.8               0   outofstock    15609\n",
       "662        5955           0   27.3               0   outofstock    14377\n",
       "664        5957           0   39.0               0   outofstock    13577\n",
       "687        6100           0   12.9               0   outofstock    15529\n",
       "823        7329           0   26.5              14      instock  14680-1"
      ]
     },
     "execution_count": 89,
     "metadata": {},
     "output_type": "execute_result"
    }
   ],
   "source": [
    "# On travail avec cette liste pour comprendre à quoi correspondent ces lignes\n",
    "# Ici on voit que 20 produits font partis de cette liste, il ne sont pas vendus sur internet (onsale web 0) donc surement \n",
    "# pas d'id web sur df web\n",
    "\n",
    "erp_liaison.loc[erp_liaison['web_id'].isin(List_PasCorrespondance), :]"
   ]
  },
  {
   "cell_type": "code",
   "execution_count": 90,
   "id": "978c81b2",
   "metadata": {},
   "outputs": [
    {
     "data": {
      "text/html": [
       "<div>\n",
       "<style scoped>\n",
       "    .dataframe tbody tr th:only-of-type {\n",
       "        vertical-align: middle;\n",
       "    }\n",
       "\n",
       "    .dataframe tbody tr th {\n",
       "        vertical-align: top;\n",
       "    }\n",
       "\n",
       "    .dataframe thead th {\n",
       "        text-align: right;\n",
       "    }\n",
       "</style>\n",
       "<table border=\"1\" class=\"dataframe\">\n",
       "  <thead>\n",
       "    <tr style=\"text-align: right;\">\n",
       "      <th></th>\n",
       "      <th>web_id</th>\n",
       "      <th>virtual</th>\n",
       "      <th>downloadable</th>\n",
       "      <th>rating_count</th>\n",
       "      <th>average_rating</th>\n",
       "      <th>total_sales</th>\n",
       "      <th>tax_status</th>\n",
       "      <th>tax_class</th>\n",
       "      <th>post_author</th>\n",
       "      <th>post_date</th>\n",
       "      <th>...</th>\n",
       "      <th>post_name</th>\n",
       "      <th>post_modified</th>\n",
       "      <th>post_modified_gmt</th>\n",
       "      <th>post_content_filtered</th>\n",
       "      <th>post_parent</th>\n",
       "      <th>guid</th>\n",
       "      <th>menu_order</th>\n",
       "      <th>post_type</th>\n",
       "      <th>post_mime_type</th>\n",
       "      <th>comment_count</th>\n",
       "    </tr>\n",
       "  </thead>\n",
       "  <tbody>\n",
       "  </tbody>\n",
       "</table>\n",
       "<p>0 rows × 28 columns</p>\n",
       "</div>"
      ],
      "text/plain": [
       "Empty DataFrame\n",
       "Columns: [web_id, virtual, downloadable, rating_count, average_rating, total_sales, tax_status, tax_class, post_author, post_date, post_date_gmt, post_content, post_title, post_excerpt, post_status, comment_status, ping_status, post_password, post_name, post_modified, post_modified_gmt, post_content_filtered, post_parent, guid, menu_order, post_type, post_mime_type, comment_count]\n",
       "Index: []\n",
       "\n",
       "[0 rows x 28 columns]"
      ]
     },
     "execution_count": 90,
     "metadata": {},
     "output_type": "execute_result"
    }
   ],
   "source": [
    "# On vérifie cela, et oui aucun produit de cette liste n'est présent dans la table web\n",
    "\n",
    "web.loc[web['web_id'].isin(List_PasCorrespondance), :]"
   ]
  },
  {
   "cell_type": "code",
   "execution_count": 91,
   "id": "33447875",
   "metadata": {},
   "outputs": [],
   "source": [
    "# On va donc stocker ces 20 produits de la table erp_liaison qui n'auront pas de correspondance sur la table web dans\n",
    "# la table de sauvegarde\n",
    "\n",
    "S_erp_liaison_TMP = erp_liaison.loc[erp_liaison['web_id'].isin(List_PasCorrespondance), :]\n",
    "\n",
    "S_erp_liaison = pd.concat([S_erp_liaison,S_erp_liaison_TMP])"
   ]
  },
  {
   "cell_type": "code",
   "execution_count": 92,
   "id": "1852f399",
   "metadata": {},
   "outputs": [
    {
     "data": {
      "text/plain": [
       "(714, 6)"
      ]
     },
     "execution_count": 92,
     "metadata": {},
     "output_type": "execute_result"
    }
   ],
   "source": [
    "# Maintenant qu'ils sont stocker on va les enelver de la table erp_liaison\n",
    "# Donc resumons: nous avons 714 web_id identique entre la table erp_liaison et web\n",
    "\n",
    "erp_liaison = erp_liaison[~erp_liaison['web_id'].isin(List_PasCorrespondance)]\n",
    "erp_liaison.shape"
   ]
  },
  {
   "cell_type": "code",
   "execution_count": 93,
   "id": "de53bf29",
   "metadata": {
    "scrolled": true
   },
   "outputs": [
    {
     "data": {
      "text/plain": [
       "714"
      ]
     },
     "execution_count": 93,
     "metadata": {},
     "output_type": "execute_result"
    }
   ],
   "source": [
    "web['web_id'].nunique()"
   ]
  },
  {
   "cell_type": "code",
   "execution_count": 94,
   "id": "d0bcda39",
   "metadata": {},
   "outputs": [
    {
     "data": {
      "text/plain": [
       "714"
      ]
     },
     "execution_count": 94,
     "metadata": {},
     "output_type": "execute_result"
    }
   ],
   "source": [
    "erp_liaison['web_id'].nunique()"
   ]
  },
  {
   "cell_type": "code",
   "execution_count": 95,
   "id": "fa4490b4",
   "metadata": {},
   "outputs": [],
   "source": [
    "# Jointure entre erp_liaison et web\n",
    "\n",
    "erp_web = pd.merge(erp_liaison, web, on=['web_id'], how='inner', indicator=True)"
   ]
  },
  {
   "cell_type": "code",
   "execution_count": 96,
   "id": "a5c0ebd5",
   "metadata": {},
   "outputs": [
    {
     "data": {
      "text/plain": [
       "(714, 34)"
      ]
     },
     "execution_count": 96,
     "metadata": {},
     "output_type": "execute_result"
    }
   ],
   "source": [
    "erp_web.shape"
   ]
  },
  {
   "cell_type": "code",
   "execution_count": 97,
   "id": "db741002",
   "metadata": {},
   "outputs": [
    {
     "data": {
      "text/plain": [
       "both          714\n",
       "left_only       0\n",
       "right_only      0\n",
       "Name: _merge, dtype: int64"
      ]
     },
     "execution_count": 97,
     "metadata": {},
     "output_type": "execute_result"
    }
   ],
   "source": [
    "#Vérifier notre jointure \n",
    "\n",
    "erp_web['_merge'].value_counts()"
   ]
  },
  {
   "cell_type": "code",
   "execution_count": 98,
   "id": "f564444a",
   "metadata": {},
   "outputs": [
    {
     "data": {
      "text/html": [
       "<div>\n",
       "<style scoped>\n",
       "    .dataframe tbody tr th:only-of-type {\n",
       "        vertical-align: middle;\n",
       "    }\n",
       "\n",
       "    .dataframe tbody tr th {\n",
       "        vertical-align: top;\n",
       "    }\n",
       "\n",
       "    .dataframe thead th {\n",
       "        text-align: right;\n",
       "    }\n",
       "</style>\n",
       "<table border=\"1\" class=\"dataframe\">\n",
       "  <thead>\n",
       "    <tr style=\"text-align: right;\">\n",
       "      <th></th>\n",
       "      <th>product_id</th>\n",
       "      <th>onsale_web</th>\n",
       "      <th>price</th>\n",
       "      <th>stock_quantity</th>\n",
       "      <th>stock_status</th>\n",
       "      <th>web_id</th>\n",
       "      <th>virtual</th>\n",
       "      <th>downloadable</th>\n",
       "      <th>rating_count</th>\n",
       "      <th>average_rating</th>\n",
       "      <th>...</th>\n",
       "      <th>post_modified</th>\n",
       "      <th>post_modified_gmt</th>\n",
       "      <th>post_content_filtered</th>\n",
       "      <th>post_parent</th>\n",
       "      <th>guid</th>\n",
       "      <th>menu_order</th>\n",
       "      <th>post_type</th>\n",
       "      <th>post_mime_type</th>\n",
       "      <th>comment_count</th>\n",
       "      <th>_merge</th>\n",
       "    </tr>\n",
       "  </thead>\n",
       "  <tbody>\n",
       "    <tr>\n",
       "      <th>0</th>\n",
       "      <td>3847</td>\n",
       "      <td>1</td>\n",
       "      <td>24.2</td>\n",
       "      <td>0</td>\n",
       "      <td>outofstock</td>\n",
       "      <td>15298</td>\n",
       "      <td>0</td>\n",
       "      <td>0</td>\n",
       "      <td>0</td>\n",
       "      <td>0.0</td>\n",
       "      <td>...</td>\n",
       "      <td>2019-12-30 09:30:29</td>\n",
       "      <td>2019-12-30 08:30:29</td>\n",
       "      <td>NaN</td>\n",
       "      <td>0.0</td>\n",
       "      <td>https://www.bottle-neck.fr/?post_type=product&amp;...</td>\n",
       "      <td>0.0</td>\n",
       "      <td>product</td>\n",
       "      <td>NaN</td>\n",
       "      <td>0.0</td>\n",
       "      <td>both</td>\n",
       "    </tr>\n",
       "    <tr>\n",
       "      <th>1</th>\n",
       "      <td>3849</td>\n",
       "      <td>1</td>\n",
       "      <td>34.3</td>\n",
       "      <td>0</td>\n",
       "      <td>outofstock</td>\n",
       "      <td>15296</td>\n",
       "      <td>0</td>\n",
       "      <td>0</td>\n",
       "      <td>0</td>\n",
       "      <td>0.0</td>\n",
       "      <td>...</td>\n",
       "      <td>2019-12-21 09:00:17</td>\n",
       "      <td>2019-12-21 08:00:17</td>\n",
       "      <td>NaN</td>\n",
       "      <td>0.0</td>\n",
       "      <td>https://www.bottle-neck.fr/?post_type=product&amp;...</td>\n",
       "      <td>0.0</td>\n",
       "      <td>product</td>\n",
       "      <td>NaN</td>\n",
       "      <td>0.0</td>\n",
       "      <td>both</td>\n",
       "    </tr>\n",
       "    <tr>\n",
       "      <th>2</th>\n",
       "      <td>3850</td>\n",
       "      <td>1</td>\n",
       "      <td>20.8</td>\n",
       "      <td>0</td>\n",
       "      <td>outofstock</td>\n",
       "      <td>15300</td>\n",
       "      <td>0</td>\n",
       "      <td>0</td>\n",
       "      <td>0</td>\n",
       "      <td>0.0</td>\n",
       "      <td>...</td>\n",
       "      <td>2020-06-26 18:15:03</td>\n",
       "      <td>2020-06-26 16:15:03</td>\n",
       "      <td>NaN</td>\n",
       "      <td>0.0</td>\n",
       "      <td>https://www.bottle-neck.fr/?post_type=product&amp;...</td>\n",
       "      <td>0.0</td>\n",
       "      <td>product</td>\n",
       "      <td>NaN</td>\n",
       "      <td>0.0</td>\n",
       "      <td>both</td>\n",
       "    </tr>\n",
       "    <tr>\n",
       "      <th>3</th>\n",
       "      <td>4032</td>\n",
       "      <td>1</td>\n",
       "      <td>14.1</td>\n",
       "      <td>0</td>\n",
       "      <td>outofstock</td>\n",
       "      <td>19814</td>\n",
       "      <td>0</td>\n",
       "      <td>0</td>\n",
       "      <td>0</td>\n",
       "      <td>0.0</td>\n",
       "      <td>...</td>\n",
       "      <td>2020-01-04 16:36:01</td>\n",
       "      <td>2020-01-04 15:36:01</td>\n",
       "      <td>NaN</td>\n",
       "      <td>0.0</td>\n",
       "      <td>https://www.bottle-neck.fr/?post_type=product&amp;...</td>\n",
       "      <td>0.0</td>\n",
       "      <td>product</td>\n",
       "      <td>NaN</td>\n",
       "      <td>0.0</td>\n",
       "      <td>both</td>\n",
       "    </tr>\n",
       "    <tr>\n",
       "      <th>4</th>\n",
       "      <td>4039</td>\n",
       "      <td>1</td>\n",
       "      <td>46.0</td>\n",
       "      <td>0</td>\n",
       "      <td>outofstock</td>\n",
       "      <td>19815</td>\n",
       "      <td>0</td>\n",
       "      <td>0</td>\n",
       "      <td>0</td>\n",
       "      <td>0.0</td>\n",
       "      <td>...</td>\n",
       "      <td>2020-01-04 16:36:10</td>\n",
       "      <td>2020-01-04 15:36:10</td>\n",
       "      <td>NaN</td>\n",
       "      <td>0.0</td>\n",
       "      <td>https://www.bottle-neck.fr/?post_type=product&amp;...</td>\n",
       "      <td>0.0</td>\n",
       "      <td>product</td>\n",
       "      <td>NaN</td>\n",
       "      <td>0.0</td>\n",
       "      <td>both</td>\n",
       "    </tr>\n",
       "  </tbody>\n",
       "</table>\n",
       "<p>5 rows × 34 columns</p>\n",
       "</div>"
      ],
      "text/plain": [
       "   product_id  onsale_web  price  stock_quantity stock_status web_id  virtual  \\\n",
       "0        3847           1   24.2               0   outofstock  15298        0   \n",
       "1        3849           1   34.3               0   outofstock  15296        0   \n",
       "2        3850           1   20.8               0   outofstock  15300        0   \n",
       "3        4032           1   14.1               0   outofstock  19814        0   \n",
       "4        4039           1   46.0               0   outofstock  19815        0   \n",
       "\n",
       "   downloadable  rating_count  average_rating  ...       post_modified  \\\n",
       "0             0             0             0.0  ... 2019-12-30 09:30:29   \n",
       "1             0             0             0.0  ... 2019-12-21 09:00:17   \n",
       "2             0             0             0.0  ... 2020-06-26 18:15:03   \n",
       "3             0             0             0.0  ... 2020-01-04 16:36:01   \n",
       "4             0             0             0.0  ... 2020-01-04 16:36:10   \n",
       "\n",
       "    post_modified_gmt  post_content_filtered  post_parent  \\\n",
       "0 2019-12-30 08:30:29                    NaN          0.0   \n",
       "1 2019-12-21 08:00:17                    NaN          0.0   \n",
       "2 2020-06-26 16:15:03                    NaN          0.0   \n",
       "3 2020-01-04 15:36:01                    NaN          0.0   \n",
       "4 2020-01-04 15:36:10                    NaN          0.0   \n",
       "\n",
       "                                                guid menu_order  post_type  \\\n",
       "0  https://www.bottle-neck.fr/?post_type=product&...        0.0    product   \n",
       "1  https://www.bottle-neck.fr/?post_type=product&...        0.0    product   \n",
       "2  https://www.bottle-neck.fr/?post_type=product&...        0.0    product   \n",
       "3  https://www.bottle-neck.fr/?post_type=product&...        0.0    product   \n",
       "4  https://www.bottle-neck.fr/?post_type=product&...        0.0    product   \n",
       "\n",
       "  post_mime_type comment_count _merge  \n",
       "0            NaN           0.0   both  \n",
       "1            NaN           0.0   both  \n",
       "2            NaN           0.0   both  \n",
       "3            NaN           0.0   both  \n",
       "4            NaN           0.0   both  \n",
       "\n",
       "[5 rows x 34 columns]"
      ]
     },
     "execution_count": 98,
     "metadata": {},
     "output_type": "execute_result"
    }
   ],
   "source": [
    "erp_web.head()"
   ]
  },
  {
   "cell_type": "code",
   "execution_count": 99,
   "id": "9b0a91eb",
   "metadata": {},
   "outputs": [
    {
     "data": {
      "text/plain": [
       "0"
      ]
     },
     "execution_count": 99,
     "metadata": {},
     "output_type": "execute_result"
    }
   ],
   "source": [
    "# Verification pas de doublons de web id : \n",
    "#v1\n",
    "erp_web['web_id'].nunique()\n",
    "#v2\n",
    "len(erp_web['web_id'])-len(erp_web['web_id'].drop_duplicates())"
   ]
  },
  {
   "cell_type": "markdown",
   "id": "6d3e98a1",
   "metadata": {},
   "source": [
    "<h1 align=\"center\"> <font color='006899'>III. Résultats</font>  <h1>  "
   ]
  },
  {
   "cell_type": "markdown",
   "id": "d5439173",
   "metadata": {},
   "source": [
    "<h2 align=\"center\"> <font color='006899'>A. Calcul du CA</font>  <h2>     "
   ]
  },
  {
   "cell_type": "code",
   "execution_count": 100,
   "id": "89c68b05",
   "metadata": {},
   "outputs": [
    {
     "data": {
      "text/html": [
       "<div>\n",
       "<style scoped>\n",
       "    .dataframe tbody tr th:only-of-type {\n",
       "        vertical-align: middle;\n",
       "    }\n",
       "\n",
       "    .dataframe tbody tr th {\n",
       "        vertical-align: top;\n",
       "    }\n",
       "\n",
       "    .dataframe thead th {\n",
       "        text-align: right;\n",
       "    }\n",
       "</style>\n",
       "<table border=\"1\" class=\"dataframe\">\n",
       "  <thead>\n",
       "    <tr style=\"text-align: right;\">\n",
       "      <th></th>\n",
       "      <th>product_id</th>\n",
       "      <th>ca_product</th>\n",
       "    </tr>\n",
       "  </thead>\n",
       "  <tbody>\n",
       "    <tr>\n",
       "      <th>0</th>\n",
       "      <td>3847</td>\n",
       "      <td>145.2</td>\n",
       "    </tr>\n",
       "    <tr>\n",
       "      <th>1</th>\n",
       "      <td>3849</td>\n",
       "      <td>0.0</td>\n",
       "    </tr>\n",
       "    <tr>\n",
       "      <th>2</th>\n",
       "      <td>3850</td>\n",
       "      <td>0.0</td>\n",
       "    </tr>\n",
       "    <tr>\n",
       "      <th>3</th>\n",
       "      <td>4032</td>\n",
       "      <td>42.3</td>\n",
       "    </tr>\n",
       "    <tr>\n",
       "      <th>4</th>\n",
       "      <td>4039</td>\n",
       "      <td>0.0</td>\n",
       "    </tr>\n",
       "  </tbody>\n",
       "</table>\n",
       "</div>"
      ],
      "text/plain": [
       "   product_id  ca_product\n",
       "0        3847       145.2\n",
       "1        3849         0.0\n",
       "2        3850         0.0\n",
       "3        4032        42.3\n",
       "4        4039         0.0"
      ]
     },
     "execution_count": 100,
     "metadata": {},
     "output_type": "execute_result"
    }
   ],
   "source": [
    "# CA par produit : on ajoute une colonne du CA par produit\n",
    "\n",
    "erp_web['ca_product'] = erp_web['price']*erp_web['total_sales']\n",
    "erp_web[['product_id','ca_product']].head()"
   ]
  },
  {
   "cell_type": "code",
   "execution_count": 101,
   "id": "1e6628e1",
   "metadata": {},
   "outputs": [
    {
     "name": "stdout",
     "output_type": "stream",
     "text": [
      "Le chiffre d'affaires total de BottleNeck est de 70568.6 €\n"
     ]
    }
   ],
   "source": [
    "# On calcul le CA total de BottleNeck\n",
    "\n",
    "CA_Total = erp_web['ca_product'].sum()\n",
    "print(\"Le chiffre d'affaires total de BottleNeck est de\",CA_Total, \"€\" )"
   ]
  },
  {
   "cell_type": "markdown",
   "id": "10801fdd",
   "metadata": {},
   "source": [
    "<h2 align=\"center\"> <font color='006899'>B. Analyse univarié de la distribution du prix des produits</font>  <h2>     "
   ]
  },
  {
   "cell_type": "code",
   "execution_count": 102,
   "id": "e59dbca6",
   "metadata": {},
   "outputs": [
    {
     "data": {
      "text/plain": [
       "dtype('float64')"
      ]
     },
     "execution_count": 102,
     "metadata": {},
     "output_type": "execute_result"
    }
   ],
   "source": [
    "# On vérifie que la variable prix est du même type\n",
    "\n",
    "erp_web['price'].dtypes"
   ]
  },
  {
   "cell_type": "code",
   "execution_count": 103,
   "id": "26c9b8f7",
   "metadata": {},
   "outputs": [
    {
     "data": {
      "text/plain": [
       "0"
      ]
     },
     "execution_count": 103,
     "metadata": {},
     "output_type": "execute_result"
    }
   ],
   "source": [
    "# On vérifie bien qu'il n'y a pas de valeurs nulles dedans\n",
    "\n",
    "erp_web['price'].isna().sum()"
   ]
  },
  {
   "cell_type": "code",
   "execution_count": 104,
   "id": "abfc5a95",
   "metadata": {},
   "outputs": [
    {
     "data": {
      "text/plain": [
       "32.49"
      ]
     },
     "execution_count": 104,
     "metadata": {},
     "output_type": "execute_result"
    }
   ],
   "source": [
    "# Calcul la moyenne : \n",
    "\n",
    "xbar = erp_web['price'].mean()\n",
    "round(xbar,2)"
   ]
  },
  {
   "cell_type": "code",
   "execution_count": 105,
   "id": "df54a228",
   "metadata": {},
   "outputs": [
    {
     "data": {
      "text/plain": [
       "23.55"
      ]
     },
     "execution_count": 105,
     "metadata": {},
     "output_type": "execute_result"
    }
   ],
   "source": [
    "# Calcul la mediane : \n",
    "\n",
    "M = erp_web['price'].median()\n",
    "round(M,2)"
   ]
  },
  {
   "cell_type": "code",
   "execution_count": 106,
   "id": "b75571b3",
   "metadata": {},
   "outputs": [
    {
     "data": {
      "text/plain": [
       "27.81"
      ]
     },
     "execution_count": 106,
     "metadata": {},
     "output_type": "execute_result"
    }
   ],
   "source": [
    "# Calcul ecart type : --> ecart type grand donc distribution (valeurs) dispersées\n",
    "\n",
    "sprime = erp_web['price'].std(ddof=1)\n",
    "round(sprime,2)"
   ]
  },
  {
   "cell_type": "code",
   "execution_count": 107,
   "id": "c82d2362",
   "metadata": {},
   "outputs": [
    {
     "data": {
      "text/plain": [
       "773.43"
      ]
     },
     "execution_count": 107,
     "metadata": {},
     "output_type": "execute_result"
    }
   ],
   "source": [
    "# Calcul variance : --> grosse variance idem\n",
    "\n",
    "sprime2 = erp_web['price'].var(ddof=1)\n",
    "round(sprime2,2)"
   ]
  },
  {
   "cell_type": "code",
   "execution_count": 108,
   "id": "f7f19039",
   "metadata": {},
   "outputs": [
    {
     "data": {
      "text/plain": [
       "2.58090126300337"
      ]
     },
     "execution_count": 108,
     "metadata": {},
     "output_type": "execute_result"
    }
   ],
   "source": [
    "# Mesure de dispersion: Si la Skewness est supérieur à 0, alors le dataset est dispersé (biais) sur la droite. \n",
    "# C'est à dire que la majorité des données se trouvent sur la gauche et les outliers se trouvent sur la droite\n",
    "\n",
    "from scipy.stats import skew\n",
    "erp_web['price'].skew()"
   ]
  },
  {
   "cell_type": "markdown",
   "id": "4e9a4d0d",
   "metadata": {},
   "source": [
    "<h3 align=\"center\"> <font color='006899'>1ière technique : L'ecart interquartile</font>  <h3>  "
   ]
  },
  {
   "cell_type": "code",
   "execution_count": 110,
   "id": "da70eef7",
   "metadata": {},
   "outputs": [
    {
     "data": {
      "text/plain": [
       "<AxesSubplot:title={'center':'boxplot'}, xlabel='price'>"
      ]
     },
     "execution_count": 110,
     "metadata": {},
     "output_type": "execute_result"
    },
    {
     "data": {
      "image/png": "[encoded data removed]",
      "text/plain": [
       "<Figure size 640x480 with 1 Axes>"
      ]
     },
     "metadata": {},
     "output_type": "display_data"
    }
   ],
   "source": [
    "# Ici nous allons exposé sa distribution dans une boite à moustache pour mieux la comprendre\n",
    "\n",
    "plt.title(\"boxplot\")\n",
    "sns.boxplot(data=erp_web, x=erp_web['price'])"
   ]
  },
  {
   "cell_type": "raw",
   "id": "ccfafe3b",
   "metadata": {},
   "source": [
    "Une pratique courante consiste à fixer une “clôture” qui soit 1,5 fois la longeur de l'écart interquartile, tout ce qui \n",
    "se trouve en dehors est définit comme valeur aberrante ou outlier --> déterminé par les données non pas par un pourcentage arbitraire"
   ]
  },
  {
   "cell_type": "code",
   "execution_count": 112,
   "id": "1fe7e99c",
   "metadata": {},
   "outputs": [],
   "source": [
    "# Fonction interquatile pour voir les valeurs en dehors de IQR\n",
    "\n",
    "def find_outliers_IQR(df):\n",
    "    Q1 = df.quantile(0.25)\n",
    "    Q3 = df.quantile(0.75)\n",
    "    IQR = Q3 - Q1\n",
    "    outliers = df[((df<(Q1-1.5*IQR)) | (df>(Q3+1.5*IQR)))]\n",
    "    return outliers"
   ]
  },
  {
   "cell_type": "code",
   "execution_count": 113,
   "id": "2cf66bcb",
   "metadata": {},
   "outputs": [
    {
     "name": "stdout",
     "output_type": "stream",
     "text": [
      "nombre d'outliers: 32\n"
     ]
    }
   ],
   "source": [
    "# Créer une liste des valeurs outliers qu'on a pu détecter\n",
    "\n",
    "List_outliers_IQR = find_outliers_IQR(erp_web['price'])\n",
    "print(\"nombre d'outliers: \"+ str(len(List_outliers_IQR)))"
   ]
  },
  {
   "cell_type": "code",
   "execution_count": 114,
   "id": "9f57b553",
   "metadata": {},
   "outputs": [
    {
     "data": {
      "text/html": [
       "<div>\n",
       "<style scoped>\n",
       "    .dataframe tbody tr th:only-of-type {\n",
       "        vertical-align: middle;\n",
       "    }\n",
       "\n",
       "    .dataframe tbody tr th {\n",
       "        vertical-align: top;\n",
       "    }\n",
       "\n",
       "    .dataframe thead th {\n",
       "        text-align: right;\n",
       "    }\n",
       "</style>\n",
       "<table border=\"1\" class=\"dataframe\">\n",
       "  <thead>\n",
       "    <tr style=\"text-align: right;\">\n",
       "      <th></th>\n",
       "      <th>product_id</th>\n",
       "      <th>post_name</th>\n",
       "      <th>price</th>\n",
       "    </tr>\n",
       "  </thead>\n",
       "  <tbody>\n",
       "    <tr>\n",
       "      <th>199</th>\n",
       "      <td>4352</td>\n",
       "      <td>champagne-egly-ouriet-grand-cru-millesime-2008</td>\n",
       "      <td>225.0</td>\n",
       "    </tr>\n",
       "    <tr>\n",
       "      <th>426</th>\n",
       "      <td>5001</td>\n",
       "      <td>david-duband-charmes-chambertin-grand-cru-2014</td>\n",
       "      <td>217.5</td>\n",
       "    </tr>\n",
       "    <tr>\n",
       "      <th>587</th>\n",
       "      <td>5892</td>\n",
       "      <td>coteaux-champenois-egly-ouriet-ambonnay-rouge-...</td>\n",
       "      <td>191.3</td>\n",
       "    </tr>\n",
       "    <tr>\n",
       "      <th>218</th>\n",
       "      <td>4402</td>\n",
       "      <td>cognac-frapin-vip-xo</td>\n",
       "      <td>176.0</td>\n",
       "    </tr>\n",
       "    <tr>\n",
       "      <th>553</th>\n",
       "      <td>5767</td>\n",
       "      <td>camille-giroud-clos-de-vougeot-2016</td>\n",
       "      <td>175.0</td>\n",
       "    </tr>\n",
       "    <tr>\n",
       "      <th>221</th>\n",
       "      <td>4406</td>\n",
       "      <td>cognac-frapin-chateau-de-fontpinot-1989-20-ans</td>\n",
       "      <td>157.0</td>\n",
       "    </tr>\n",
       "    <tr>\n",
       "      <th>381</th>\n",
       "      <td>4904</td>\n",
       "      <td>domaine-des-croix-corton-charlemagne-grand-cru...</td>\n",
       "      <td>137.0</td>\n",
       "    </tr>\n",
       "    <tr>\n",
       "      <th>642</th>\n",
       "      <td>6126</td>\n",
       "      <td>champagne-gosset-celebris-vintage-2007</td>\n",
       "      <td>135.0</td>\n",
       "    </tr>\n",
       "    <tr>\n",
       "      <th>201</th>\n",
       "      <td>4355</td>\n",
       "      <td>champagne-egly-ouriet-grand-cru-brut-blanc-de-...</td>\n",
       "      <td>126.5</td>\n",
       "    </tr>\n",
       "    <tr>\n",
       "      <th>511</th>\n",
       "      <td>5612</td>\n",
       "      <td>domaine-weinbach-gewurztraminer-gc-furstentum-...</td>\n",
       "      <td>124.8</td>\n",
       "    </tr>\n",
       "  </tbody>\n",
       "</table>\n",
       "</div>"
      ],
      "text/plain": [
       "     product_id                                          post_name  price\n",
       "199        4352     champagne-egly-ouriet-grand-cru-millesime-2008  225.0\n",
       "426        5001     david-duband-charmes-chambertin-grand-cru-2014  217.5\n",
       "587        5892  coteaux-champenois-egly-ouriet-ambonnay-rouge-...  191.3\n",
       "218        4402                               cognac-frapin-vip-xo  176.0\n",
       "553        5767                camille-giroud-clos-de-vougeot-2016  175.0\n",
       "221        4406     cognac-frapin-chateau-de-fontpinot-1989-20-ans  157.0\n",
       "381        4904  domaine-des-croix-corton-charlemagne-grand-cru...  137.0\n",
       "642        6126             champagne-gosset-celebris-vintage-2007  135.0\n",
       "201        4355  champagne-egly-ouriet-grand-cru-brut-blanc-de-...  126.5\n",
       "511        5612  domaine-weinbach-gewurztraminer-gc-furstentum-...  124.8"
      ]
     },
     "execution_count": 114,
     "metadata": {},
     "output_type": "execute_result"
    }
   ],
   "source": [
    "# Créer une table avec uniquement les outliers qu'on a pu identifier\n",
    "\n",
    "df_outliers_IQR = erp_web[erp_web['price'].isin(List_outliers_IQR)][['product_id','post_name','price']]\n",
    "df_outliers_IQR.sort_values(by = 'price', ascending=False).head(10)"
   ]
  },
  {
   "cell_type": "code",
   "execution_count": 115,
   "id": "e28719d5",
   "metadata": {},
   "outputs": [
    {
     "data": {
      "text/html": [
       "<div>\n",
       "<style scoped>\n",
       "    .dataframe tbody tr th:only-of-type {\n",
       "        vertical-align: middle;\n",
       "    }\n",
       "\n",
       "    .dataframe tbody tr th {\n",
       "        vertical-align: top;\n",
       "    }\n",
       "\n",
       "    .dataframe thead th {\n",
       "        text-align: right;\n",
       "    }\n",
       "</style>\n",
       "<table border=\"1\" class=\"dataframe\">\n",
       "  <thead>\n",
       "    <tr style=\"text-align: right;\">\n",
       "      <th></th>\n",
       "      <th>product_id</th>\n",
       "      <th>post_name</th>\n",
       "      <th>price</th>\n",
       "    </tr>\n",
       "  </thead>\n",
       "  <tbody>\n",
       "    <tr>\n",
       "      <th>205</th>\n",
       "      <td>4359</td>\n",
       "      <td>champagne-larmandier-bernier-grand-cru-vieille...</td>\n",
       "      <td>85.6</td>\n",
       "    </tr>\n",
       "  </tbody>\n",
       "</table>\n",
       "</div>"
      ],
      "text/plain": [
       "     product_id                                          post_name  price\n",
       "205        4359  champagne-larmandier-bernier-grand-cru-vieille...   85.6"
      ]
     },
     "execution_count": 115,
     "metadata": {},
     "output_type": "execute_result"
    }
   ],
   "source": [
    "# Dernier outliers : 85,6 euros\n",
    "\n",
    "df_outliers_IQR.sort_values(by = 'price', ascending=True).head(1)"
   ]
  },
  {
   "cell_type": "code",
   "execution_count": 116,
   "id": "ddb5a8d0",
   "metadata": {},
   "outputs": [],
   "source": [
    "# Créer un flag pour savoir si c'est un outliers ou non\n",
    "\n",
    "erp_web['outliers'] = np.where(erp_web['price'].isin(List_outliers_IQR), 1, 0)"
   ]
  },
  {
   "cell_type": "code",
   "execution_count": 117,
   "id": "7fe6a592",
   "metadata": {},
   "outputs": [
    {
     "data": {
      "text/plain": [
       "Text(0.5, 1.0, 'nuage de points')"
      ]
     },
     "execution_count": 117,
     "metadata": {},
     "output_type": "execute_result"
    },
    {
     "data": {
      "image/png": "[encoded data removed]",
      "text/plain": [
       "<Figure size 640x480 with 1 Axes>"
      ]
     },
     "metadata": {},
     "output_type": "display_data"
    }
   ],
   "source": [
    "# Affiche les outliers\n",
    "\n",
    "sns.scatterplot(data=erp_web, x='total_sales', y='price', hue=erp_web['outliers'], alpha=0.7)\n",
    "plt.title(\"nuage de points\")"
   ]
  },
  {
   "cell_type": "markdown",
   "id": "09b688fd",
   "metadata": {},
   "source": [
    "<h3 align=\"center\"> <font color='006899'>2ième technique : Le Z score</font>  <h3>  "
   ]
  },
  {
   "cell_type": "code",
   "execution_count": 119,
   "id": "e80fb700",
   "metadata": {},
   "outputs": [
    {
     "data": {
      "text/plain": [
       "<matplotlib.lines.Line2D at 0x1eaa0cc7dc0>"
      ]
     },
     "execution_count": 119,
     "metadata": {},
     "output_type": "execute_result"
    },
    {
     "data": {
      "image/png": "[encoded data removed]",
      "text/plain": [
       "<Figure size 640x480 with 1 Axes>"
      ]
     },
     "metadata": {},
     "output_type": "display_data"
    }
   ],
   "source": [
    "# Ici distribution décroissante exponentielle --> asymétrie positive\n",
    "\n",
    "plt.hist(erp_web['price'],bins=20)\n",
    "plt.title(\"histogramme\")\n",
    "plt.axvline(xbar, color='r', linewidth=2)\n",
    "plt.axvline(M, color='g', linewidth=2)"
   ]
  },
  {
   "cell_type": "code",
   "execution_count": 120,
   "id": "941c9be2",
   "metadata": {},
   "outputs": [
    {
     "name": "stdout",
     "output_type": "stream",
     "text": [
      "nombre d'outliers: 30\n"
     ]
    }
   ],
   "source": [
    "threshold = 2\n",
    "List_outliers_Z = []\n",
    "for i in erp_web['price']:\n",
    "    z = (i-xbar)/sprime\n",
    "    if z > threshold:\n",
    "        List_outliers_Z.append(i)\n",
    "print(\"nombre d'outliers: \"+ str(len(List_outliers_Z)))"
   ]
  },
  {
   "cell_type": "code",
   "execution_count": 121,
   "id": "47fb5a49",
   "metadata": {},
   "outputs": [
    {
     "data": {
      "text/html": [
       "<div>\n",
       "<style scoped>\n",
       "    .dataframe tbody tr th:only-of-type {\n",
       "        vertical-align: middle;\n",
       "    }\n",
       "\n",
       "    .dataframe tbody tr th {\n",
       "        vertical-align: top;\n",
       "    }\n",
       "\n",
       "    .dataframe thead th {\n",
       "        text-align: right;\n",
       "    }\n",
       "</style>\n",
       "<table border=\"1\" class=\"dataframe\">\n",
       "  <thead>\n",
       "    <tr style=\"text-align: right;\">\n",
       "      <th></th>\n",
       "      <th>product_id</th>\n",
       "      <th>post_name</th>\n",
       "      <th>price</th>\n",
       "    </tr>\n",
       "  </thead>\n",
       "  <tbody>\n",
       "    <tr>\n",
       "      <th>199</th>\n",
       "      <td>4352</td>\n",
       "      <td>champagne-egly-ouriet-grand-cru-millesime-2008</td>\n",
       "      <td>225.0</td>\n",
       "    </tr>\n",
       "    <tr>\n",
       "      <th>426</th>\n",
       "      <td>5001</td>\n",
       "      <td>david-duband-charmes-chambertin-grand-cru-2014</td>\n",
       "      <td>217.5</td>\n",
       "    </tr>\n",
       "    <tr>\n",
       "      <th>587</th>\n",
       "      <td>5892</td>\n",
       "      <td>coteaux-champenois-egly-ouriet-ambonnay-rouge-...</td>\n",
       "      <td>191.3</td>\n",
       "    </tr>\n",
       "    <tr>\n",
       "      <th>218</th>\n",
       "      <td>4402</td>\n",
       "      <td>cognac-frapin-vip-xo</td>\n",
       "      <td>176.0</td>\n",
       "    </tr>\n",
       "    <tr>\n",
       "      <th>553</th>\n",
       "      <td>5767</td>\n",
       "      <td>camille-giroud-clos-de-vougeot-2016</td>\n",
       "      <td>175.0</td>\n",
       "    </tr>\n",
       "    <tr>\n",
       "      <th>221</th>\n",
       "      <td>4406</td>\n",
       "      <td>cognac-frapin-chateau-de-fontpinot-1989-20-ans</td>\n",
       "      <td>157.0</td>\n",
       "    </tr>\n",
       "    <tr>\n",
       "      <th>381</th>\n",
       "      <td>4904</td>\n",
       "      <td>domaine-des-croix-corton-charlemagne-grand-cru...</td>\n",
       "      <td>137.0</td>\n",
       "    </tr>\n",
       "    <tr>\n",
       "      <th>642</th>\n",
       "      <td>6126</td>\n",
       "      <td>champagne-gosset-celebris-vintage-2007</td>\n",
       "      <td>135.0</td>\n",
       "    </tr>\n",
       "    <tr>\n",
       "      <th>201</th>\n",
       "      <td>4355</td>\n",
       "      <td>champagne-egly-ouriet-grand-cru-brut-blanc-de-...</td>\n",
       "      <td>126.5</td>\n",
       "    </tr>\n",
       "    <tr>\n",
       "      <th>511</th>\n",
       "      <td>5612</td>\n",
       "      <td>domaine-weinbach-gewurztraminer-gc-furstentum-...</td>\n",
       "      <td>124.8</td>\n",
       "    </tr>\n",
       "  </tbody>\n",
       "</table>\n",
       "</div>"
      ],
      "text/plain": [
       "     product_id                                          post_name  price\n",
       "199        4352     champagne-egly-ouriet-grand-cru-millesime-2008  225.0\n",
       "426        5001     david-duband-charmes-chambertin-grand-cru-2014  217.5\n",
       "587        5892  coteaux-champenois-egly-ouriet-ambonnay-rouge-...  191.3\n",
       "218        4402                               cognac-frapin-vip-xo  176.0\n",
       "553        5767                camille-giroud-clos-de-vougeot-2016  175.0\n",
       "221        4406     cognac-frapin-chateau-de-fontpinot-1989-20-ans  157.0\n",
       "381        4904  domaine-des-croix-corton-charlemagne-grand-cru...  137.0\n",
       "642        6126             champagne-gosset-celebris-vintage-2007  135.0\n",
       "201        4355  champagne-egly-ouriet-grand-cru-brut-blanc-de-...  126.5\n",
       "511        5612  domaine-weinbach-gewurztraminer-gc-furstentum-...  124.8"
      ]
     },
     "execution_count": 121,
     "metadata": {},
     "output_type": "execute_result"
    }
   ],
   "source": [
    "# Créer une table avec uniquement les outliers qu'on a pu identifier\n",
    "\n",
    "df_outliers_Z = erp_web[erp_web['price'].isin(List_outliers_Z)][['product_id','post_name','price']]\n",
    "df_outliers_Z.sort_values(by = 'price', ascending=False).head(10)"
   ]
  },
  {
   "cell_type": "code",
   "execution_count": 122,
   "id": "5918eab9",
   "metadata": {},
   "outputs": [
    {
     "data": {
      "text/html": [
       "<div>\n",
       "<style scoped>\n",
       "    .dataframe tbody tr th:only-of-type {\n",
       "        vertical-align: middle;\n",
       "    }\n",
       "\n",
       "    .dataframe tbody tr th {\n",
       "        vertical-align: top;\n",
       "    }\n",
       "\n",
       "    .dataframe thead th {\n",
       "        text-align: right;\n",
       "    }\n",
       "</style>\n",
       "<table border=\"1\" class=\"dataframe\">\n",
       "  <thead>\n",
       "    <tr style=\"text-align: right;\">\n",
       "      <th></th>\n",
       "      <th>product_id</th>\n",
       "      <th>post_name</th>\n",
       "      <th>price</th>\n",
       "    </tr>\n",
       "  </thead>\n",
       "  <tbody>\n",
       "    <tr>\n",
       "      <th>65</th>\n",
       "      <td>4132</td>\n",
       "      <td>zind-humbrecht-pinot-gris-grand-cru-rangen-de-...</td>\n",
       "      <td>88.4</td>\n",
       "    </tr>\n",
       "  </tbody>\n",
       "</table>\n",
       "</div>"
      ],
      "text/plain": [
       "    product_id                                          post_name  price\n",
       "65        4132  zind-humbrecht-pinot-gris-grand-cru-rangen-de-...   88.4"
      ]
     },
     "execution_count": 122,
     "metadata": {},
     "output_type": "execute_result"
    }
   ],
   "source": [
    "# Dernièr outliers : 88,4 euros\n",
    "\n",
    "df_outliers_Z.sort_values(by = 'price', ascending=True).head(1)"
   ]
  }
 ],
 "metadata": {
  "kernelspec": {
   "display_name": "Python 3 (ipykernel)",
   "language": "python",
   "name": "python3"
  },
  "language_info": {
   "codemirror_mode": {
    "name": "ipython",
    "version": 3
   },
   "file_extension": ".py",
   "mimetype": "text/x-python",
   "name": "python",
   "nbconvert_exporter": "python",
   "pygments_lexer": "ipython3",
   "version": "3.11.4"
  }
 },
 "nbformat": 4,
 "nbformat_minor": 5
}
